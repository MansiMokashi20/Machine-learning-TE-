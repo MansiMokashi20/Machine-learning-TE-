{
 "cells": [
  {
   "cell_type": "code",
   "execution_count": 1,
   "id": "cb5bd330",
   "metadata": {},
   "outputs": [],
   "source": [
    "import pandas as pd\n",
    "import seaborn as sns\n",
    "df=pd.read_excel(\"C:/Users/Admin/Desktop/clg-assignTE/ml/Regression_Data_set_Batch1.csv.xlsx\")"
   ]
  },
  {
   "cell_type": "code",
   "execution_count": 2,
   "id": "caea2df4",
   "metadata": {},
   "outputs": [
    {
     "data": {
      "text/html": [
       "<div>\n",
       "<style scoped>\n",
       "    .dataframe tbody tr th:only-of-type {\n",
       "        vertical-align: middle;\n",
       "    }\n",
       "\n",
       "    .dataframe tbody tr th {\n",
       "        vertical-align: top;\n",
       "    }\n",
       "\n",
       "    .dataframe thead th {\n",
       "        text-align: right;\n",
       "    }\n",
       "</style>\n",
       "<table border=\"1\" class=\"dataframe\">\n",
       "  <thead>\n",
       "    <tr style=\"text-align: right;\">\n",
       "      <th></th>\n",
       "      <th>price</th>\n",
       "      <th>area</th>\n",
       "      <th>bedrooms</th>\n",
       "      <th>bathrooms</th>\n",
       "      <th>stories</th>\n",
       "      <th>mainroad</th>\n",
       "      <th>guestroom</th>\n",
       "      <th>basement</th>\n",
       "      <th>hotwaterheating</th>\n",
       "      <th>airconditioning</th>\n",
       "      <th>parking</th>\n",
       "      <th>prefarea</th>\n",
       "      <th>furnishingstatus</th>\n",
       "    </tr>\n",
       "  </thead>\n",
       "  <tbody>\n",
       "    <tr>\n",
       "      <th>0</th>\n",
       "      <td>13300000.0</td>\n",
       "      <td>7420.0</td>\n",
       "      <td>4.0</td>\n",
       "      <td>2.0</td>\n",
       "      <td>3.0</td>\n",
       "      <td>yes</td>\n",
       "      <td>no</td>\n",
       "      <td>no</td>\n",
       "      <td>no</td>\n",
       "      <td>yes</td>\n",
       "      <td>2.0</td>\n",
       "      <td>yes</td>\n",
       "      <td>furnished</td>\n",
       "    </tr>\n",
       "    <tr>\n",
       "      <th>1</th>\n",
       "      <td>12250000.0</td>\n",
       "      <td>8960.0</td>\n",
       "      <td>4.0</td>\n",
       "      <td>4.0</td>\n",
       "      <td>4.0</td>\n",
       "      <td>yes</td>\n",
       "      <td>no</td>\n",
       "      <td>no</td>\n",
       "      <td>no</td>\n",
       "      <td>yes</td>\n",
       "      <td>3.0</td>\n",
       "      <td>no</td>\n",
       "      <td>furnished</td>\n",
       "    </tr>\n",
       "    <tr>\n",
       "      <th>2</th>\n",
       "      <td>12250000.0</td>\n",
       "      <td>9960.0</td>\n",
       "      <td>3.0</td>\n",
       "      <td>2.0</td>\n",
       "      <td>2.0</td>\n",
       "      <td>yes</td>\n",
       "      <td>no</td>\n",
       "      <td>yes</td>\n",
       "      <td>no</td>\n",
       "      <td>no</td>\n",
       "      <td>2.0</td>\n",
       "      <td>yes</td>\n",
       "      <td>semi-furnished</td>\n",
       "    </tr>\n",
       "    <tr>\n",
       "      <th>3</th>\n",
       "      <td>12215000.0</td>\n",
       "      <td>7500.0</td>\n",
       "      <td>4.0</td>\n",
       "      <td>2.0</td>\n",
       "      <td>2.0</td>\n",
       "      <td>yes</td>\n",
       "      <td>no</td>\n",
       "      <td>yes</td>\n",
       "      <td>no</td>\n",
       "      <td>yes</td>\n",
       "      <td>3.0</td>\n",
       "      <td>yes</td>\n",
       "      <td>furnished</td>\n",
       "    </tr>\n",
       "    <tr>\n",
       "      <th>4</th>\n",
       "      <td>11410000.0</td>\n",
       "      <td>7420.0</td>\n",
       "      <td>4.0</td>\n",
       "      <td>1.0</td>\n",
       "      <td>2.0</td>\n",
       "      <td>yes</td>\n",
       "      <td>yes</td>\n",
       "      <td>yes</td>\n",
       "      <td>no</td>\n",
       "      <td>yes</td>\n",
       "      <td>2.0</td>\n",
       "      <td>no</td>\n",
       "      <td>furnished</td>\n",
       "    </tr>\n",
       "    <tr>\n",
       "      <th>...</th>\n",
       "      <td>...</td>\n",
       "      <td>...</td>\n",
       "      <td>...</td>\n",
       "      <td>...</td>\n",
       "      <td>...</td>\n",
       "      <td>...</td>\n",
       "      <td>...</td>\n",
       "      <td>...</td>\n",
       "      <td>...</td>\n",
       "      <td>...</td>\n",
       "      <td>...</td>\n",
       "      <td>...</td>\n",
       "      <td>...</td>\n",
       "    </tr>\n",
       "    <tr>\n",
       "      <th>540</th>\n",
       "      <td>1820000.0</td>\n",
       "      <td>3000.0</td>\n",
       "      <td>2.0</td>\n",
       "      <td>1.0</td>\n",
       "      <td>1.0</td>\n",
       "      <td>yes</td>\n",
       "      <td>no</td>\n",
       "      <td>yes</td>\n",
       "      <td>no</td>\n",
       "      <td>no</td>\n",
       "      <td>2.0</td>\n",
       "      <td>no</td>\n",
       "      <td>unfurnished</td>\n",
       "    </tr>\n",
       "    <tr>\n",
       "      <th>541</th>\n",
       "      <td>1767150.0</td>\n",
       "      <td>2400.0</td>\n",
       "      <td>3.0</td>\n",
       "      <td>1.0</td>\n",
       "      <td>1.0</td>\n",
       "      <td>no</td>\n",
       "      <td>no</td>\n",
       "      <td>no</td>\n",
       "      <td>no</td>\n",
       "      <td>no</td>\n",
       "      <td>0.0</td>\n",
       "      <td>no</td>\n",
       "      <td>semi-furnished</td>\n",
       "    </tr>\n",
       "    <tr>\n",
       "      <th>542</th>\n",
       "      <td>1750000.0</td>\n",
       "      <td>3620.0</td>\n",
       "      <td>2.0</td>\n",
       "      <td>1.0</td>\n",
       "      <td>1.0</td>\n",
       "      <td>yes</td>\n",
       "      <td>no</td>\n",
       "      <td>no</td>\n",
       "      <td>no</td>\n",
       "      <td>no</td>\n",
       "      <td>0.0</td>\n",
       "      <td>no</td>\n",
       "      <td>unfurnished</td>\n",
       "    </tr>\n",
       "    <tr>\n",
       "      <th>543</th>\n",
       "      <td>1750000.0</td>\n",
       "      <td>2910.0</td>\n",
       "      <td>3.0</td>\n",
       "      <td>1.0</td>\n",
       "      <td>1.0</td>\n",
       "      <td>no</td>\n",
       "      <td>no</td>\n",
       "      <td>no</td>\n",
       "      <td>no</td>\n",
       "      <td>no</td>\n",
       "      <td>0.0</td>\n",
       "      <td>no</td>\n",
       "      <td>furnished</td>\n",
       "    </tr>\n",
       "    <tr>\n",
       "      <th>544</th>\n",
       "      <td>1750000.0</td>\n",
       "      <td>3850.0</td>\n",
       "      <td>3.0</td>\n",
       "      <td>1.0</td>\n",
       "      <td>2.0</td>\n",
       "      <td>yes</td>\n",
       "      <td>no</td>\n",
       "      <td>no</td>\n",
       "      <td>no</td>\n",
       "      <td>no</td>\n",
       "      <td>0.0</td>\n",
       "      <td>no</td>\n",
       "      <td>unfurnished</td>\n",
       "    </tr>\n",
       "  </tbody>\n",
       "</table>\n",
       "<p>545 rows × 13 columns</p>\n",
       "</div>"
      ],
      "text/plain": [
       "          price    area  bedrooms  bathrooms  stories mainroad guestroom  \\\n",
       "0    13300000.0  7420.0       4.0        2.0      3.0      yes        no   \n",
       "1    12250000.0  8960.0       4.0        4.0      4.0      yes        no   \n",
       "2    12250000.0  9960.0       3.0        2.0      2.0      yes        no   \n",
       "3    12215000.0  7500.0       4.0        2.0      2.0      yes        no   \n",
       "4    11410000.0  7420.0       4.0        1.0      2.0      yes       yes   \n",
       "..          ...     ...       ...        ...      ...      ...       ...   \n",
       "540   1820000.0  3000.0       2.0        1.0      1.0      yes        no   \n",
       "541   1767150.0  2400.0       3.0        1.0      1.0       no        no   \n",
       "542   1750000.0  3620.0       2.0        1.0      1.0      yes        no   \n",
       "543   1750000.0  2910.0       3.0        1.0      1.0       no        no   \n",
       "544   1750000.0  3850.0       3.0        1.0      2.0      yes        no   \n",
       "\n",
       "    basement hotwaterheating airconditioning  parking prefarea  \\\n",
       "0         no              no             yes      2.0      yes   \n",
       "1         no              no             yes      3.0       no   \n",
       "2        yes              no              no      2.0      yes   \n",
       "3        yes              no             yes      3.0      yes   \n",
       "4        yes              no             yes      2.0       no   \n",
       "..       ...             ...             ...      ...      ...   \n",
       "540      yes              no              no      2.0       no   \n",
       "541       no              no              no      0.0       no   \n",
       "542       no              no              no      0.0       no   \n",
       "543       no              no              no      0.0       no   \n",
       "544       no              no              no      0.0       no   \n",
       "\n",
       "    furnishingstatus  \n",
       "0          furnished  \n",
       "1          furnished  \n",
       "2     semi-furnished  \n",
       "3          furnished  \n",
       "4          furnished  \n",
       "..               ...  \n",
       "540      unfurnished  \n",
       "541   semi-furnished  \n",
       "542      unfurnished  \n",
       "543        furnished  \n",
       "544      unfurnished  \n",
       "\n",
       "[545 rows x 13 columns]"
      ]
     },
     "execution_count": 2,
     "metadata": {},
     "output_type": "execute_result"
    }
   ],
   "source": [
    "df"
   ]
  },
  {
   "cell_type": "code",
   "execution_count": 3,
   "id": "8195843f",
   "metadata": {},
   "outputs": [
    {
     "data": {
      "text/html": [
       "<div>\n",
       "<style scoped>\n",
       "    .dataframe tbody tr th:only-of-type {\n",
       "        vertical-align: middle;\n",
       "    }\n",
       "\n",
       "    .dataframe tbody tr th {\n",
       "        vertical-align: top;\n",
       "    }\n",
       "\n",
       "    .dataframe thead th {\n",
       "        text-align: right;\n",
       "    }\n",
       "</style>\n",
       "<table border=\"1\" class=\"dataframe\">\n",
       "  <thead>\n",
       "    <tr style=\"text-align: right;\">\n",
       "      <th></th>\n",
       "      <th>price</th>\n",
       "      <th>area</th>\n",
       "      <th>bedrooms</th>\n",
       "      <th>bathrooms</th>\n",
       "      <th>stories</th>\n",
       "      <th>mainroad</th>\n",
       "      <th>guestroom</th>\n",
       "      <th>basement</th>\n",
       "      <th>hotwaterheating</th>\n",
       "      <th>airconditioning</th>\n",
       "      <th>parking</th>\n",
       "      <th>prefarea</th>\n",
       "      <th>furnishingstatus</th>\n",
       "    </tr>\n",
       "  </thead>\n",
       "  <tbody>\n",
       "    <tr>\n",
       "      <th>0</th>\n",
       "      <td>False</td>\n",
       "      <td>False</td>\n",
       "      <td>False</td>\n",
       "      <td>False</td>\n",
       "      <td>False</td>\n",
       "      <td>False</td>\n",
       "      <td>False</td>\n",
       "      <td>False</td>\n",
       "      <td>False</td>\n",
       "      <td>False</td>\n",
       "      <td>False</td>\n",
       "      <td>False</td>\n",
       "      <td>False</td>\n",
       "    </tr>\n",
       "    <tr>\n",
       "      <th>1</th>\n",
       "      <td>False</td>\n",
       "      <td>False</td>\n",
       "      <td>False</td>\n",
       "      <td>False</td>\n",
       "      <td>False</td>\n",
       "      <td>False</td>\n",
       "      <td>False</td>\n",
       "      <td>False</td>\n",
       "      <td>False</td>\n",
       "      <td>False</td>\n",
       "      <td>False</td>\n",
       "      <td>False</td>\n",
       "      <td>False</td>\n",
       "    </tr>\n",
       "    <tr>\n",
       "      <th>2</th>\n",
       "      <td>False</td>\n",
       "      <td>False</td>\n",
       "      <td>False</td>\n",
       "      <td>False</td>\n",
       "      <td>False</td>\n",
       "      <td>False</td>\n",
       "      <td>False</td>\n",
       "      <td>False</td>\n",
       "      <td>False</td>\n",
       "      <td>False</td>\n",
       "      <td>False</td>\n",
       "      <td>False</td>\n",
       "      <td>False</td>\n",
       "    </tr>\n",
       "    <tr>\n",
       "      <th>3</th>\n",
       "      <td>False</td>\n",
       "      <td>False</td>\n",
       "      <td>False</td>\n",
       "      <td>False</td>\n",
       "      <td>False</td>\n",
       "      <td>False</td>\n",
       "      <td>False</td>\n",
       "      <td>False</td>\n",
       "      <td>False</td>\n",
       "      <td>False</td>\n",
       "      <td>False</td>\n",
       "      <td>False</td>\n",
       "      <td>False</td>\n",
       "    </tr>\n",
       "    <tr>\n",
       "      <th>4</th>\n",
       "      <td>False</td>\n",
       "      <td>False</td>\n",
       "      <td>False</td>\n",
       "      <td>False</td>\n",
       "      <td>False</td>\n",
       "      <td>False</td>\n",
       "      <td>False</td>\n",
       "      <td>False</td>\n",
       "      <td>False</td>\n",
       "      <td>False</td>\n",
       "      <td>False</td>\n",
       "      <td>False</td>\n",
       "      <td>False</td>\n",
       "    </tr>\n",
       "    <tr>\n",
       "      <th>...</th>\n",
       "      <td>...</td>\n",
       "      <td>...</td>\n",
       "      <td>...</td>\n",
       "      <td>...</td>\n",
       "      <td>...</td>\n",
       "      <td>...</td>\n",
       "      <td>...</td>\n",
       "      <td>...</td>\n",
       "      <td>...</td>\n",
       "      <td>...</td>\n",
       "      <td>...</td>\n",
       "      <td>...</td>\n",
       "      <td>...</td>\n",
       "    </tr>\n",
       "    <tr>\n",
       "      <th>540</th>\n",
       "      <td>False</td>\n",
       "      <td>False</td>\n",
       "      <td>False</td>\n",
       "      <td>False</td>\n",
       "      <td>False</td>\n",
       "      <td>False</td>\n",
       "      <td>False</td>\n",
       "      <td>False</td>\n",
       "      <td>False</td>\n",
       "      <td>False</td>\n",
       "      <td>False</td>\n",
       "      <td>False</td>\n",
       "      <td>False</td>\n",
       "    </tr>\n",
       "    <tr>\n",
       "      <th>541</th>\n",
       "      <td>False</td>\n",
       "      <td>False</td>\n",
       "      <td>False</td>\n",
       "      <td>False</td>\n",
       "      <td>False</td>\n",
       "      <td>False</td>\n",
       "      <td>False</td>\n",
       "      <td>False</td>\n",
       "      <td>False</td>\n",
       "      <td>False</td>\n",
       "      <td>False</td>\n",
       "      <td>False</td>\n",
       "      <td>False</td>\n",
       "    </tr>\n",
       "    <tr>\n",
       "      <th>542</th>\n",
       "      <td>False</td>\n",
       "      <td>False</td>\n",
       "      <td>False</td>\n",
       "      <td>False</td>\n",
       "      <td>False</td>\n",
       "      <td>False</td>\n",
       "      <td>False</td>\n",
       "      <td>False</td>\n",
       "      <td>False</td>\n",
       "      <td>False</td>\n",
       "      <td>False</td>\n",
       "      <td>False</td>\n",
       "      <td>False</td>\n",
       "    </tr>\n",
       "    <tr>\n",
       "      <th>543</th>\n",
       "      <td>False</td>\n",
       "      <td>False</td>\n",
       "      <td>False</td>\n",
       "      <td>False</td>\n",
       "      <td>False</td>\n",
       "      <td>False</td>\n",
       "      <td>False</td>\n",
       "      <td>False</td>\n",
       "      <td>False</td>\n",
       "      <td>False</td>\n",
       "      <td>False</td>\n",
       "      <td>False</td>\n",
       "      <td>False</td>\n",
       "    </tr>\n",
       "    <tr>\n",
       "      <th>544</th>\n",
       "      <td>False</td>\n",
       "      <td>False</td>\n",
       "      <td>False</td>\n",
       "      <td>False</td>\n",
       "      <td>False</td>\n",
       "      <td>False</td>\n",
       "      <td>False</td>\n",
       "      <td>False</td>\n",
       "      <td>False</td>\n",
       "      <td>False</td>\n",
       "      <td>False</td>\n",
       "      <td>False</td>\n",
       "      <td>False</td>\n",
       "    </tr>\n",
       "  </tbody>\n",
       "</table>\n",
       "<p>545 rows × 13 columns</p>\n",
       "</div>"
      ],
      "text/plain": [
       "     price   area  bedrooms  bathrooms  stories  mainroad  guestroom  \\\n",
       "0    False  False     False      False    False     False      False   \n",
       "1    False  False     False      False    False     False      False   \n",
       "2    False  False     False      False    False     False      False   \n",
       "3    False  False     False      False    False     False      False   \n",
       "4    False  False     False      False    False     False      False   \n",
       "..     ...    ...       ...        ...      ...       ...        ...   \n",
       "540  False  False     False      False    False     False      False   \n",
       "541  False  False     False      False    False     False      False   \n",
       "542  False  False     False      False    False     False      False   \n",
       "543  False  False     False      False    False     False      False   \n",
       "544  False  False     False      False    False     False      False   \n",
       "\n",
       "     basement  hotwaterheating  airconditioning  parking  prefarea  \\\n",
       "0       False            False            False    False     False   \n",
       "1       False            False            False    False     False   \n",
       "2       False            False            False    False     False   \n",
       "3       False            False            False    False     False   \n",
       "4       False            False            False    False     False   \n",
       "..        ...              ...              ...      ...       ...   \n",
       "540     False            False            False    False     False   \n",
       "541     False            False            False    False     False   \n",
       "542     False            False            False    False     False   \n",
       "543     False            False            False    False     False   \n",
       "544     False            False            False    False     False   \n",
       "\n",
       "     furnishingstatus  \n",
       "0               False  \n",
       "1               False  \n",
       "2               False  \n",
       "3               False  \n",
       "4               False  \n",
       "..                ...  \n",
       "540             False  \n",
       "541             False  \n",
       "542             False  \n",
       "543             False  \n",
       "544             False  \n",
       "\n",
       "[545 rows x 13 columns]"
      ]
     },
     "execution_count": 3,
     "metadata": {},
     "output_type": "execute_result"
    }
   ],
   "source": [
    "#null values\n",
    "df.isnull()"
   ]
  },
  {
   "cell_type": "code",
   "execution_count": 4,
   "id": "5cd244d7",
   "metadata": {},
   "outputs": [
    {
     "data": {
      "image/png": "[encoded data removed]",
      "text/plain": [
       "<Figure size 432x288 with 1 Axes>"
      ]
     },
     "metadata": {
      "needs_background": "light"
     },
     "output_type": "display_data"
    }
   ],
   "source": [
    "#lineplot\n",
    "lplot=sns.lineplot(x=\"area\",y=\"price\",data=df)"
   ]
  },
  {
   "cell_type": "code",
   "execution_count": 5,
   "id": "4769b87f",
   "metadata": {},
   "outputs": [
    {
     "data": {
      "image/png": "[encoded data removed]",
      "text/plain": [
       "<Figure size 432x288 with 1 Axes>"
      ]
     },
     "metadata": {
      "needs_background": "light"
     },
     "output_type": "display_data"
    }
   ],
   "source": [
    "#lineplot\n",
    "lplot=sns.lineplot(x=\"bedrooms\",y=\"price\",data=df)"
   ]
  },
  {
   "cell_type": "code",
   "execution_count": 6,
   "id": "59c73790",
   "metadata": {},
   "outputs": [
    {
     "data": {
      "image/png": "[encoded data removed]",
      "text/plain": [
       "<Figure size 360x360 with 1 Axes>"
      ]
     },
     "metadata": {
      "needs_background": "light"
     },
     "output_type": "display_data"
    }
   ],
   "source": [
    "#relation plot\n",
    "rplot=sns.relplot(x=\"stories\",y=\"price\",data=df)"
   ]
  },
  {
   "cell_type": "code",
   "execution_count": 7,
   "id": "4627e46a",
   "metadata": {},
   "outputs": [
    {
     "data": {
      "image/png": "[encoded data removed]",
      "text/plain": [
       "<Figure size 360x360 with 1 Axes>"
      ]
     },
     "metadata": {
      "needs_background": "light"
     },
     "output_type": "display_data"
    }
   ],
   "source": [
    "#relation plot\n",
    "rplot=sns.relplot(x=\"bedrooms\",y=\"price\",data=df)"
   ]
  },
  {
   "cell_type": "code",
   "execution_count": 8,
   "id": "2254b770",
   "metadata": {},
   "outputs": [
    {
     "data": {
      "image/png": "[encoded data removed]",
      "text/plain": [
       "<Figure size 432x288 with 1 Axes>"
      ]
     },
     "metadata": {
      "needs_background": "light"
     },
     "output_type": "display_data"
    }
   ],
   "source": [
    "#scatter plot\n",
    "splot=sns.scatterplot(x=\"bedrooms\",y=\"bathrooms\",data=df)"
   ]
  },
  {
   "cell_type": "code",
   "execution_count": 9,
   "id": "10c39178",
   "metadata": {},
   "outputs": [
    {
     "data": {
      "image/png": "[encoded data removed]",
      "text/plain": [
       "<Figure size 432x288 with 1 Axes>"
      ]
     },
     "metadata": {
      "needs_background": "light"
     },
     "output_type": "display_data"
    }
   ],
   "source": [
    "#barplot\n",
    "bplot=sns.barplot(x=\"stories\",y=\"price\",data=df)"
   ]
  },
  {
   "cell_type": "code",
   "execution_count": 10,
   "id": "973e8684",
   "metadata": {},
   "outputs": [
    {
     "data": {
      "image/png": "[encoded data removed]",
      "text/plain": [
       "<Figure size 432x288 with 1 Axes>"
      ]
     },
     "metadata": {
      "needs_background": "light"
     },
     "output_type": "display_data"
    }
   ],
   "source": [
    "#boxplot\n",
    "bplot1=sns.barplot(x=\"bedrooms\",y=\"price\",data=df)"
   ]
  },
  {
   "cell_type": "code",
   "execution_count": 11,
   "id": "14e5502d",
   "metadata": {},
   "outputs": [
    {
     "data": {
      "text/plain": [
       "271    1.0\n",
       "238    2.0\n",
       "1      4.0\n",
       "427    1.0\n",
       "371    1.0\n",
       "      ... \n",
       "30     2.0\n",
       "343    1.0\n",
       "416    1.0\n",
       "66     1.0\n",
       "310    1.0\n",
       "Name: bathrooms, Length: 408, dtype: float64"
      ]
     },
     "execution_count": 11,
     "metadata": {},
     "output_type": "execute_result"
    }
   ],
   "source": [
    "from sklearn.model_selection import train_test_split\n",
    "x=df.iloc[:,3]\n",
    "y=df.iloc[:,0]\n",
    "x_train,x_test,y_train,y_test=train_test_split(x,y,train_size=0.75)\n",
    "x_train"
   ]
  },
  {
   "cell_type": "code",
   "execution_count": 12,
   "id": "8fbe91b7",
   "metadata": {},
   "outputs": [
    {
     "data": {
      "text/plain": [
       "271     4340000.0\n",
       "238     4613000.0\n",
       "1      12250000.0\n",
       "427     3332000.0\n",
       "371     3640000.0\n",
       "          ...    \n",
       "30      8400000.0\n",
       "343     3850000.0\n",
       "416     3395000.0\n",
       "66      6930000.0\n",
       "310     4130000.0\n",
       "Name: price, Length: 408, dtype: float64"
      ]
     },
     "execution_count": 12,
     "metadata": {},
     "output_type": "execute_result"
    }
   ],
   "source": [
    "y_train"
   ]
  },
  {
   "cell_type": "code",
   "execution_count": 40,
   "id": "c93b6365",
   "metadata": {},
   "outputs": [],
   "source": [
    "x=df.iloc[:,3].values\n",
    "y=df.iloc[:,0].values\n",
    "x_train,x_test,y_train,y_test=train_test_split(x,y,train_size=0.75)"
   ]
  },
  {
   "cell_type": "code",
   "execution_count": 42,
   "id": "6901b4f3",
   "metadata": {},
   "outputs": [
    {
     "data": {
      "text/plain": [
       "array([2., 1., 1., 2., 1., 1., 1., 2., 1., 1., 1., 1., 1., 1., 1., 1., 1.,\n",
       "       1., 1., 1., 1., 1., 2., 2., 1., 2., 2., 1., 2., 1., 1., 1., 1., 1.,\n",
       "       1., 2., 1., 1., 1., 1., 2., 2., 1., 2., 1., 2., 1., 1., 2., 2., 1.,\n",
       "       1., 1., 2., 1., 1., 1., 1., 1., 1., 1., 3., 2., 1., 2., 1., 1., 1.,\n",
       "       2., 1., 2., 2., 1., 1., 1., 1., 1., 2., 1., 1., 1., 1., 1., 2., 1.,\n",
       "       1., 1., 2., 2., 1., 1., 1., 1., 1., 1., 1., 1., 1., 2., 1., 1., 1.,\n",
       "       1., 1., 1., 1., 1., 2., 2., 1., 3., 1., 1., 1., 1., 1., 2., 1., 2.,\n",
       "       1., 2., 1., 1., 1., 1., 3., 2., 2., 1., 1., 1., 2., 2., 1., 1., 1.,\n",
       "       1., 1., 1., 1., 2., 1., 1., 1., 1., 1., 1., 1., 1., 1., 1., 1., 2.,\n",
       "       1., 1., 1., 1., 2., 1., 1., 1., 1., 2., 1., 1., 1., 2., 1., 2., 2.,\n",
       "       1., 1., 1., 1., 1., 1., 1., 2., 2., 1., 1., 1., 1., 1., 1., 2., 1.,\n",
       "       1., 1., 1., 1., 2., 1., 1., 2., 1., 1., 1., 2., 2., 1., 2., 1., 1.,\n",
       "       2., 1., 1., 1., 2., 1., 1., 1., 1., 1., 2., 1., 2., 2., 3., 1., 1.,\n",
       "       2., 1., 2., 1., 2., 1., 1., 1., 1., 1., 1., 1., 1., 1., 2., 1., 1.,\n",
       "       1., 1., 1., 2., 1., 1., 1., 1., 1., 1., 1., 1., 2., 3., 1., 1., 1.,\n",
       "       1., 1., 2., 2., 1., 1., 1., 1., 2., 1., 2., 2., 1., 1., 1., 1., 2.,\n",
       "       1., 1., 1., 2., 2., 1., 1., 1., 1., 1., 1., 1., 1., 1., 1., 1., 1.,\n",
       "       1., 1., 1., 1., 1., 1., 2., 1., 1., 1., 2., 2., 2., 2., 1., 1., 1.,\n",
       "       1., 2., 1., 1., 2., 1., 1., 1., 2., 2., 2., 1., 1., 2., 1., 2., 2.,\n",
       "       1., 1., 2., 1., 1., 1., 1., 1., 2., 1., 1., 1., 2., 1., 1., 1., 1.,\n",
       "       1., 2., 1., 1., 1., 1., 1., 1., 1., 2., 2., 1., 1., 1., 1., 1., 1.,\n",
       "       1., 1., 2., 1., 2., 1., 3., 1., 1., 1., 1., 2., 1., 1., 3., 2., 1.,\n",
       "       1., 1., 1., 1., 1., 1., 1., 1., 1., 2., 1., 1., 1., 4., 1., 1., 1.,\n",
       "       1., 1., 1., 1., 1., 3., 1., 2., 1., 1., 2., 2., 1., 1., 1., 2., 1.])"
      ]
     },
     "execution_count": 42,
     "metadata": {},
     "output_type": "execute_result"
    }
   ],
   "source": [
    "x_train"
   ]
  },
  {
   "cell_type": "code",
   "execution_count": 14,
   "id": "6edcff90",
   "metadata": {},
   "outputs": [
    {
     "data": {
      "text/html": [
       "<style>#sk-container-id-1 {color: black;background-color: white;}#sk-container-id-1 pre{padding: 0;}#sk-container-id-1 div.sk-toggleable {background-color: white;}#sk-container-id-1 label.sk-toggleable__label {cursor: pointer;display: block;width: 100%;margin-bottom: 0;padding: 0.3em;box-sizing: border-box;text-align: center;}#sk-container-id-1 label.sk-toggleable__label-arrow:before {content: \"▸\";float: left;margin-right: 0.25em;color: #696969;}#sk-container-id-1 label.sk-toggleable__label-arrow:hover:before {color: black;}#sk-container-id-1 div.sk-estimator:hover label.sk-toggleable__label-arrow:before {color: black;}#sk-container-id-1 div.sk-toggleable__content {max-height: 0;max-width: 0;overflow: hidden;text-align: left;background-color: #f0f8ff;}#sk-container-id-1 div.sk-toggleable__content pre {margin: 0.2em;color: black;border-radius: 0.25em;background-color: #f0f8ff;}#sk-container-id-1 input.sk-toggleable__control:checked~div.sk-toggleable__content {max-height: 200px;max-width: 100%;overflow: auto;}#sk-container-id-1 input.sk-toggleable__control:checked~label.sk-toggleable__label-arrow:before {content: \"▾\";}#sk-container-id-1 div.sk-estimator input.sk-toggleable__control:checked~label.sk-toggleable__label {background-color: #d4ebff;}#sk-container-id-1 div.sk-label input.sk-toggleable__control:checked~label.sk-toggleable__label {background-color: #d4ebff;}#sk-container-id-1 input.sk-hidden--visually {border: 0;clip: rect(1px 1px 1px 1px);clip: rect(1px, 1px, 1px, 1px);height: 1px;margin: -1px;overflow: hidden;padding: 0;position: absolute;width: 1px;}#sk-container-id-1 div.sk-estimator {font-family: monospace;background-color: #f0f8ff;border: 1px dotted black;border-radius: 0.25em;box-sizing: border-box;margin-bottom: 0.5em;}#sk-container-id-1 div.sk-estimator:hover {background-color: #d4ebff;}#sk-container-id-1 div.sk-parallel-item::after {content: \"\";width: 100%;border-bottom: 1px solid gray;flex-grow: 1;}#sk-container-id-1 div.sk-label:hover label.sk-toggleable__label {background-color: #d4ebff;}#sk-container-id-1 div.sk-serial::before {content: \"\";position: absolute;border-left: 1px solid gray;box-sizing: border-box;top: 0;bottom: 0;left: 50%;z-index: 0;}#sk-container-id-1 div.sk-serial {display: flex;flex-direction: column;align-items: center;background-color: white;padding-right: 0.2em;padding-left: 0.2em;position: relative;}#sk-container-id-1 div.sk-item {position: relative;z-index: 1;}#sk-container-id-1 div.sk-parallel {display: flex;align-items: stretch;justify-content: center;background-color: white;position: relative;}#sk-container-id-1 div.sk-item::before, #sk-container-id-1 div.sk-parallel-item::before {content: \"\";position: absolute;border-left: 1px solid gray;box-sizing: border-box;top: 0;bottom: 0;left: 50%;z-index: -1;}#sk-container-id-1 div.sk-parallel-item {display: flex;flex-direction: column;z-index: 1;position: relative;background-color: white;}#sk-container-id-1 div.sk-parallel-item:first-child::after {align-self: flex-end;width: 50%;}#sk-container-id-1 div.sk-parallel-item:last-child::after {align-self: flex-start;width: 50%;}#sk-container-id-1 div.sk-parallel-item:only-child::after {width: 0;}#sk-container-id-1 div.sk-dashed-wrapped {border: 1px dashed gray;margin: 0 0.4em 0.5em 0.4em;box-sizing: border-box;padding-bottom: 0.4em;background-color: white;}#sk-container-id-1 div.sk-label label {font-family: monospace;font-weight: bold;display: inline-block;line-height: 1.2em;}#sk-container-id-1 div.sk-label-container {text-align: center;}#sk-container-id-1 div.sk-container {/* jupyter's `normalize.less` sets `[hidden] { display: none; }` but bootstrap.min.css set `[hidden] { display: none !important; }` so we also need the `!important` here to be able to override the default hidden behavior on the sphinx rendered scikit-learn.org. See: https://github.com/scikit-learn/scikit-learn/issues/21755 */display: inline-block !important;position: relative;}#sk-container-id-1 div.sk-text-repr-fallback {display: none;}</style><div id=\"sk-container-id-1\" class=\"sk-top-container\"><div class=\"sk-text-repr-fallback\"><pre>LinearRegression()</pre><b>In a Jupyter environment, please rerun this cell to show the HTML representation or trust the notebook. <br />On GitHub, the HTML representation is unable to render, please try loading this page with nbviewer.org.</b></div><div class=\"sk-container\" hidden><div class=\"sk-item\"><div class=\"sk-estimator sk-toggleable\"><input class=\"sk-toggleable__control sk-hidden--visually\" id=\"sk-estimator-id-1\" type=\"checkbox\" checked><label for=\"sk-estimator-id-1\" class=\"sk-toggleable__label sk-toggleable__label-arrow\">LinearRegression</label><div class=\"sk-toggleable__content\"><pre>LinearRegression()</pre></div></div></div></div></div>"
      ],
      "text/plain": [
       "LinearRegression()"
      ]
     },
     "execution_count": 14,
     "metadata": {},
     "output_type": "execute_result"
    }
   ],
   "source": [
    "from sklearn import linear_model\n",
    "reg=linear_model.LinearRegression()\n",
    "reg.fit(x_train.reshape(-1,1),y_train.reshape(-1,1))"
   ]
  },
  {
   "cell_type": "code",
   "execution_count": 15,
   "id": "19611dba",
   "metadata": {},
   "outputs": [
    {
     "data": {
      "text/plain": [
       "array([[4282992.99108911],\n",
       "       [4282992.99108911],\n",
       "       [4282992.99108911],\n",
       "       [6222449.45346535],\n",
       "       [4282992.99108911],\n",
       "       [4282992.99108911],\n",
       "       [8161905.91584158],\n",
       "       [4282992.99108911],\n",
       "       [4282992.99108911],\n",
       "       [4282992.99108911],\n",
       "       [4282992.99108911],\n",
       "       [4282992.99108911],\n",
       "       [4282992.99108911],\n",
       "       [6222449.45346535],\n",
       "       [4282992.99108911],\n",
       "       [4282992.99108911],\n",
       "       [6222449.45346535],\n",
       "       [6222449.45346535],\n",
       "       [6222449.45346535],\n",
       "       [4282992.99108911],\n",
       "       [4282992.99108911],\n",
       "       [4282992.99108911],\n",
       "       [4282992.99108911],\n",
       "       [6222449.45346535],\n",
       "       [4282992.99108911],\n",
       "       [4282992.99108911],\n",
       "       [4282992.99108911],\n",
       "       [4282992.99108911],\n",
       "       [4282992.99108911],\n",
       "       [4282992.99108911],\n",
       "       [8161905.91584158],\n",
       "       [6222449.45346535],\n",
       "       [6222449.45346535],\n",
       "       [6222449.45346535],\n",
       "       [4282992.99108911],\n",
       "       [4282992.99108911],\n",
       "       [4282992.99108911],\n",
       "       [6222449.45346535],\n",
       "       [4282992.99108911],\n",
       "       [4282992.99108911],\n",
       "       [6222449.45346535],\n",
       "       [4282992.99108911],\n",
       "       [4282992.99108911],\n",
       "       [4282992.99108911],\n",
       "       [6222449.45346535],\n",
       "       [4282992.99108911],\n",
       "       [4282992.99108911],\n",
       "       [4282992.99108911],\n",
       "       [4282992.99108911],\n",
       "       [6222449.45346535],\n",
       "       [4282992.99108911],\n",
       "       [6222449.45346535],\n",
       "       [6222449.45346535],\n",
       "       [4282992.99108911],\n",
       "       [6222449.45346535],\n",
       "       [4282992.99108911],\n",
       "       [6222449.45346535],\n",
       "       [6222449.45346535],\n",
       "       [6222449.45346535],\n",
       "       [6222449.45346535],\n",
       "       [4282992.99108911],\n",
       "       [4282992.99108911],\n",
       "       [6222449.45346535],\n",
       "       [4282992.99108911],\n",
       "       [6222449.45346535],\n",
       "       [4282992.99108911],\n",
       "       [4282992.99108911],\n",
       "       [6222449.45346535],\n",
       "       [6222449.45346535],\n",
       "       [4282992.99108911],\n",
       "       [4282992.99108911],\n",
       "       [4282992.99108911],\n",
       "       [4282992.99108911],\n",
       "       [4282992.99108911],\n",
       "       [4282992.99108911],\n",
       "       [4282992.99108911],\n",
       "       [6222449.45346535],\n",
       "       [4282992.99108911],\n",
       "       [4282992.99108911],\n",
       "       [4282992.99108911],\n",
       "       [6222449.45346535],\n",
       "       [4282992.99108911],\n",
       "       [4282992.99108911],\n",
       "       [4282992.99108911],\n",
       "       [4282992.99108911],\n",
       "       [4282992.99108911],\n",
       "       [4282992.99108911],\n",
       "       [4282992.99108911],\n",
       "       [4282992.99108911],\n",
       "       [4282992.99108911],\n",
       "       [4282992.99108911],\n",
       "       [4282992.99108911],\n",
       "       [6222449.45346535],\n",
       "       [4282992.99108911],\n",
       "       [4282992.99108911],\n",
       "       [4282992.99108911],\n",
       "       [6222449.45346535],\n",
       "       [4282992.99108911],\n",
       "       [4282992.99108911],\n",
       "       [4282992.99108911],\n",
       "       [4282992.99108911],\n",
       "       [4282992.99108911],\n",
       "       [6222449.45346535],\n",
       "       [4282992.99108911],\n",
       "       [4282992.99108911],\n",
       "       [6222449.45346535],\n",
       "       [4282992.99108911],\n",
       "       [4282992.99108911],\n",
       "       [4282992.99108911],\n",
       "       [4282992.99108911],\n",
       "       [6222449.45346535],\n",
       "       [6222449.45346535],\n",
       "       [4282992.99108911],\n",
       "       [6222449.45346535],\n",
       "       [4282992.99108911],\n",
       "       [4282992.99108911],\n",
       "       [4282992.99108911],\n",
       "       [4282992.99108911],\n",
       "       [4282992.99108911],\n",
       "       [4282992.99108911],\n",
       "       [4282992.99108911],\n",
       "       [6222449.45346535],\n",
       "       [4282992.99108911],\n",
       "       [4282992.99108911],\n",
       "       [4282992.99108911],\n",
       "       [6222449.45346535],\n",
       "       [4282992.99108911],\n",
       "       [4282992.99108911],\n",
       "       [4282992.99108911],\n",
       "       [4282992.99108911],\n",
       "       [4282992.99108911],\n",
       "       [6222449.45346535],\n",
       "       [4282992.99108911],\n",
       "       [4282992.99108911],\n",
       "       [4282992.99108911],\n",
       "       [4282992.99108911],\n",
       "       [4282992.99108911],\n",
       "       [4282992.99108911],\n",
       "       [4282992.99108911],\n",
       "       [4282992.99108911],\n",
       "       [4282992.99108911],\n",
       "       [4282992.99108911],\n",
       "       [6222449.45346535],\n",
       "       [6222449.45346535],\n",
       "       [4282992.99108911],\n",
       "       [4282992.99108911],\n",
       "       [4282992.99108911],\n",
       "       [4282992.99108911],\n",
       "       [4282992.99108911],\n",
       "       [4282992.99108911],\n",
       "       [4282992.99108911],\n",
       "       [4282992.99108911],\n",
       "       [6222449.45346535],\n",
       "       [4282992.99108911],\n",
       "       [4282992.99108911],\n",
       "       [6222449.45346535],\n",
       "       [4282992.99108911],\n",
       "       [6222449.45346535],\n",
       "       [6222449.45346535],\n",
       "       [4282992.99108911],\n",
       "       [4282992.99108911],\n",
       "       [6222449.45346535],\n",
       "       [4282992.99108911],\n",
       "       [6222449.45346535],\n",
       "       [6222449.45346535],\n",
       "       [4282992.99108911],\n",
       "       [4282992.99108911],\n",
       "       [4282992.99108911],\n",
       "       [4282992.99108911],\n",
       "       [4282992.99108911],\n",
       "       [4282992.99108911],\n",
       "       [4282992.99108911],\n",
       "       [4282992.99108911],\n",
       "       [8161905.91584158],\n",
       "       [4282992.99108911],\n",
       "       [4282992.99108911],\n",
       "       [6222449.45346535],\n",
       "       [4282992.99108911],\n",
       "       [4282992.99108911],\n",
       "       [6222449.45346535],\n",
       "       [4282992.99108911],\n",
       "       [4282992.99108911],\n",
       "       [4282992.99108911],\n",
       "       [4282992.99108911],\n",
       "       [4282992.99108911],\n",
       "       [4282992.99108911],\n",
       "       [6222449.45346535],\n",
       "       [4282992.99108911],\n",
       "       [4282992.99108911],\n",
       "       [4282992.99108911],\n",
       "       [4282992.99108911],\n",
       "       [4282992.99108911],\n",
       "       [4282992.99108911],\n",
       "       [4282992.99108911],\n",
       "       [4282992.99108911],\n",
       "       [4282992.99108911],\n",
       "       [6222449.45346535],\n",
       "       [6222449.45346535],\n",
       "       [4282992.99108911],\n",
       "       [4282992.99108911],\n",
       "       [4282992.99108911],\n",
       "       [4282992.99108911],\n",
       "       [4282992.99108911],\n",
       "       [4282992.99108911],\n",
       "       [4282992.99108911],\n",
       "       [4282992.99108911],\n",
       "       [4282992.99108911],\n",
       "       [4282992.99108911],\n",
       "       [6222449.45346535],\n",
       "       [4282992.99108911],\n",
       "       [4282992.99108911],\n",
       "       [4282992.99108911],\n",
       "       [4282992.99108911],\n",
       "       [6222449.45346535],\n",
       "       [4282992.99108911],\n",
       "       [4282992.99108911],\n",
       "       [4282992.99108911],\n",
       "       [4282992.99108911],\n",
       "       [4282992.99108911],\n",
       "       [4282992.99108911],\n",
       "       [6222449.45346535],\n",
       "       [4282992.99108911],\n",
       "       [4282992.99108911],\n",
       "       [6222449.45346535],\n",
       "       [6222449.45346535],\n",
       "       [4282992.99108911],\n",
       "       [4282992.99108911],\n",
       "       [4282992.99108911],\n",
       "       [4282992.99108911],\n",
       "       [4282992.99108911],\n",
       "       [4282992.99108911],\n",
       "       [6222449.45346535],\n",
       "       [6222449.45346535],\n",
       "       [6222449.45346535],\n",
       "       [4282992.99108911],\n",
       "       [4282992.99108911],\n",
       "       [4282992.99108911],\n",
       "       [8161905.91584158],\n",
       "       [4282992.99108911],\n",
       "       [4282992.99108911],\n",
       "       [6222449.45346535],\n",
       "       [4282992.99108911],\n",
       "       [4282992.99108911],\n",
       "       [4282992.99108911],\n",
       "       [4282992.99108911],\n",
       "       [4282992.99108911],\n",
       "       [4282992.99108911],\n",
       "       [4282992.99108911],\n",
       "       [6222449.45346535],\n",
       "       [4282992.99108911],\n",
       "       [6222449.45346535],\n",
       "       [6222449.45346535],\n",
       "       [4282992.99108911],\n",
       "       [4282992.99108911],\n",
       "       [6222449.45346535],\n",
       "       [4282992.99108911],\n",
       "       [6222449.45346535],\n",
       "       [4282992.99108911],\n",
       "       [4282992.99108911],\n",
       "       [4282992.99108911],\n",
       "       [4282992.99108911],\n",
       "       [4282992.99108911],\n",
       "       [4282992.99108911],\n",
       "       [4282992.99108911],\n",
       "       [4282992.99108911],\n",
       "       [6222449.45346535],\n",
       "       [4282992.99108911],\n",
       "       [4282992.99108911],\n",
       "       [6222449.45346535],\n",
       "       [4282992.99108911],\n",
       "       [4282992.99108911],\n",
       "       [6222449.45346535],\n",
       "       [4282992.99108911],\n",
       "       [4282992.99108911],\n",
       "       [6222449.45346535],\n",
       "       [4282992.99108911],\n",
       "       [4282992.99108911],\n",
       "       [6222449.45346535],\n",
       "       [4282992.99108911],\n",
       "       [6222449.45346535],\n",
       "       [4282992.99108911],\n",
       "       [4282992.99108911],\n",
       "       [4282992.99108911],\n",
       "       [4282992.99108911],\n",
       "       [4282992.99108911],\n",
       "       [4282992.99108911],\n",
       "       [4282992.99108911],\n",
       "       [4282992.99108911],\n",
       "       [6222449.45346535],\n",
       "       [4282992.99108911],\n",
       "       [8161905.91584158],\n",
       "       [4282992.99108911],\n",
       "       [6222449.45346535],\n",
       "       [4282992.99108911],\n",
       "       [4282992.99108911],\n",
       "       [4282992.99108911],\n",
       "       [4282992.99108911],\n",
       "       [8161905.91584158],\n",
       "       [6222449.45346535],\n",
       "       [4282992.99108911],\n",
       "       [4282992.99108911],\n",
       "       [6222449.45346535],\n",
       "       [4282992.99108911],\n",
       "       [4282992.99108911],\n",
       "       [4282992.99108911],\n",
       "       [6222449.45346535],\n",
       "       [4282992.99108911],\n",
       "       [6222449.45346535],\n",
       "       [4282992.99108911],\n",
       "       [6222449.45346535],\n",
       "       [4282992.99108911],\n",
       "       [6222449.45346535],\n",
       "       [6222449.45346535],\n",
       "       [4282992.99108911],\n",
       "       [4282992.99108911],\n",
       "       [6222449.45346535],\n",
       "       [4282992.99108911],\n",
       "       [4282992.99108911],\n",
       "       [4282992.99108911],\n",
       "       [4282992.99108911],\n",
       "       [4282992.99108911],\n",
       "       [6222449.45346535],\n",
       "       [4282992.99108911],\n",
       "       [6222449.45346535],\n",
       "       [4282992.99108911],\n",
       "       [4282992.99108911],\n",
       "       [4282992.99108911],\n",
       "       [4282992.99108911],\n",
       "       [6222449.45346535],\n",
       "       [4282992.99108911],\n",
       "       [6222449.45346535],\n",
       "       [6222449.45346535],\n",
       "       [4282992.99108911],\n",
       "       [4282992.99108911],\n",
       "       [4282992.99108911],\n",
       "       [4282992.99108911],\n",
       "       [4282992.99108911],\n",
       "       [4282992.99108911],\n",
       "       [4282992.99108911],\n",
       "       [4282992.99108911],\n",
       "       [4282992.99108911],\n",
       "       [4282992.99108911],\n",
       "       [4282992.99108911],\n",
       "       [4282992.99108911],\n",
       "       [4282992.99108911],\n",
       "       [6222449.45346535],\n",
       "       [4282992.99108911],\n",
       "       [4282992.99108911],\n",
       "       [4282992.99108911],\n",
       "       [8161905.91584158],\n",
       "       [4282992.99108911],\n",
       "       [4282992.99108911],\n",
       "       [4282992.99108911],\n",
       "       [4282992.99108911],\n",
       "       [4282992.99108911],\n",
       "       [6222449.45346535],\n",
       "       [4282992.99108911],\n",
       "       [4282992.99108911],\n",
       "       [4282992.99108911],\n",
       "       [4282992.99108911],\n",
       "       [4282992.99108911],\n",
       "       [4282992.99108911],\n",
       "       [6222449.45346535],\n",
       "       [4282992.99108911],\n",
       "       [4282992.99108911],\n",
       "       [4282992.99108911],\n",
       "       [6222449.45346535],\n",
       "       [4282992.99108911],\n",
       "       [4282992.99108911],\n",
       "       [6222449.45346535],\n",
       "       [6222449.45346535],\n",
       "       [6222449.45346535],\n",
       "       [6222449.45346535],\n",
       "       [4282992.99108911],\n",
       "       [4282992.99108911],\n",
       "       [4282992.99108911],\n",
       "       [6222449.45346535],\n",
       "       [6222449.45346535],\n",
       "       [4282992.99108911],\n",
       "       [4282992.99108911],\n",
       "       [4282992.99108911],\n",
       "       [6222449.45346535],\n",
       "       [4282992.99108911],\n",
       "       [6222449.45346535],\n",
       "       [4282992.99108911],\n",
       "       [4282992.99108911],\n",
       "       [4282992.99108911],\n",
       "       [4282992.99108911],\n",
       "       [4282992.99108911],\n",
       "       [6222449.45346535],\n",
       "       [4282992.99108911],\n",
       "       [4282992.99108911],\n",
       "       [4282992.99108911],\n",
       "       [4282992.99108911],\n",
       "       [6222449.45346535],\n",
       "       [4282992.99108911],\n",
       "       [4282992.99108911],\n",
       "       [4282992.99108911],\n",
       "       [4282992.99108911],\n",
       "       [4282992.99108911],\n",
       "       [4282992.99108911],\n",
       "       [8161905.91584158],\n",
       "       [4282992.99108911],\n",
       "       [4282992.99108911],\n",
       "       [4282992.99108911],\n",
       "       [4282992.99108911],\n",
       "       [4282992.99108911],\n",
       "       [6222449.45346535]])"
      ]
     },
     "execution_count": 15,
     "metadata": {},
     "output_type": "execute_result"
    }
   ],
   "source": [
    "rpred_train=reg.predict(x_train.reshape(-1,1))\n",
    "rpred_train"
   ]
  },
  {
   "cell_type": "code",
   "execution_count": 16,
   "id": "5b59724b",
   "metadata": {},
   "outputs": [
    {
     "data": {
      "text/plain": [
       "array([[ 4282992.99108911],\n",
       "       [ 4282992.99108911],\n",
       "       [ 4282992.99108911],\n",
       "       [ 4282992.99108911],\n",
       "       [ 4282992.99108911],\n",
       "       [ 4282992.99108911],\n",
       "       [ 4282992.99108911],\n",
       "       [ 4282992.99108911],\n",
       "       [ 4282992.99108911],\n",
       "       [ 4282992.99108911],\n",
       "       [ 6222449.45346535],\n",
       "       [ 4282992.99108911],\n",
       "       [ 4282992.99108911],\n",
       "       [ 6222449.45346535],\n",
       "       [ 6222449.45346535],\n",
       "       [ 4282992.99108911],\n",
       "       [ 4282992.99108911],\n",
       "       [ 4282992.99108911],\n",
       "       [ 4282992.99108911],\n",
       "       [ 4282992.99108911],\n",
       "       [ 6222449.45346535],\n",
       "       [ 6222449.45346535],\n",
       "       [ 4282992.99108911],\n",
       "       [ 4282992.99108911],\n",
       "       [ 6222449.45346535],\n",
       "       [ 4282992.99108911],\n",
       "       [ 4282992.99108911],\n",
       "       [ 6222449.45346535],\n",
       "       [ 4282992.99108911],\n",
       "       [ 6222449.45346535],\n",
       "       [ 4282992.99108911],\n",
       "       [ 6222449.45346535],\n",
       "       [ 4282992.99108911],\n",
       "       [ 4282992.99108911],\n",
       "       [ 4282992.99108911],\n",
       "       [ 4282992.99108911],\n",
       "       [ 4282992.99108911],\n",
       "       [ 4282992.99108911],\n",
       "       [ 6222449.45346535],\n",
       "       [ 4282992.99108911],\n",
       "       [ 4282992.99108911],\n",
       "       [ 4282992.99108911],\n",
       "       [ 4282992.99108911],\n",
       "       [ 4282992.99108911],\n",
       "       [ 4282992.99108911],\n",
       "       [ 4282992.99108911],\n",
       "       [ 4282992.99108911],\n",
       "       [ 4282992.99108911],\n",
       "       [ 6222449.45346535],\n",
       "       [ 4282992.99108911],\n",
       "       [ 4282992.99108911],\n",
       "       [ 4282992.99108911],\n",
       "       [ 6222449.45346535],\n",
       "       [ 6222449.45346535],\n",
       "       [ 4282992.99108911],\n",
       "       [ 4282992.99108911],\n",
       "       [ 4282992.99108911],\n",
       "       [ 6222449.45346535],\n",
       "       [ 4282992.99108911],\n",
       "       [ 6222449.45346535],\n",
       "       [ 6222449.45346535],\n",
       "       [ 4282992.99108911],\n",
       "       [ 4282992.99108911],\n",
       "       [ 6222449.45346535],\n",
       "       [ 4282992.99108911],\n",
       "       [ 4282992.99108911],\n",
       "       [ 6222449.45346535],\n",
       "       [ 6222449.45346535],\n",
       "       [ 4282992.99108911],\n",
       "       [ 4282992.99108911],\n",
       "       [ 4282992.99108911],\n",
       "       [ 4282992.99108911],\n",
       "       [ 4282992.99108911],\n",
       "       [ 4282992.99108911],\n",
       "       [ 4282992.99108911],\n",
       "       [ 4282992.99108911],\n",
       "       [10101362.37821782],\n",
       "       [ 4282992.99108911],\n",
       "       [ 4282992.99108911],\n",
       "       [ 4282992.99108911],\n",
       "       [ 4282992.99108911],\n",
       "       [ 4282992.99108911],\n",
       "       [ 6222449.45346535],\n",
       "       [ 6222449.45346535],\n",
       "       [ 8161905.91584158],\n",
       "       [ 4282992.99108911],\n",
       "       [ 6222449.45346535],\n",
       "       [ 6222449.45346535],\n",
       "       [ 4282992.99108911],\n",
       "       [ 4282992.99108911],\n",
       "       [ 4282992.99108911],\n",
       "       [ 4282992.99108911],\n",
       "       [ 4282992.99108911],\n",
       "       [ 6222449.45346535],\n",
       "       [ 4282992.99108911],\n",
       "       [ 6222449.45346535],\n",
       "       [ 4282992.99108911],\n",
       "       [ 6222449.45346535],\n",
       "       [ 4282992.99108911],\n",
       "       [ 4282992.99108911],\n",
       "       [ 8161905.91584158],\n",
       "       [ 4282992.99108911],\n",
       "       [ 6222449.45346535],\n",
       "       [ 4282992.99108911],\n",
       "       [ 4282992.99108911],\n",
       "       [ 4282992.99108911],\n",
       "       [ 6222449.45346535],\n",
       "       [ 6222449.45346535],\n",
       "       [ 4282992.99108911],\n",
       "       [ 4282992.99108911],\n",
       "       [ 6222449.45346535],\n",
       "       [ 4282992.99108911],\n",
       "       [ 4282992.99108911],\n",
       "       [ 6222449.45346535],\n",
       "       [ 4282992.99108911],\n",
       "       [ 4282992.99108911],\n",
       "       [ 4282992.99108911],\n",
       "       [ 4282992.99108911],\n",
       "       [ 4282992.99108911],\n",
       "       [ 4282992.99108911],\n",
       "       [ 4282992.99108911],\n",
       "       [ 4282992.99108911],\n",
       "       [ 4282992.99108911],\n",
       "       [ 4282992.99108911],\n",
       "       [ 4282992.99108911],\n",
       "       [ 4282992.99108911],\n",
       "       [ 4282992.99108911],\n",
       "       [ 4282992.99108911],\n",
       "       [ 4282992.99108911],\n",
       "       [ 4282992.99108911],\n",
       "       [ 4282992.99108911],\n",
       "       [ 6222449.45346535],\n",
       "       [ 4282992.99108911],\n",
       "       [ 4282992.99108911],\n",
       "       [ 6222449.45346535],\n",
       "       [ 4282992.99108911],\n",
       "       [ 4282992.99108911]])"
      ]
     },
     "execution_count": 16,
     "metadata": {},
     "output_type": "execute_result"
    }
   ],
   "source": [
    "rpred_test=reg.predict(x_test.reshape(-1,1))\n",
    "rpred_test"
   ]
  },
  {
   "cell_type": "code",
   "execution_count": 17,
   "id": "5a17ebd6",
   "metadata": {},
   "outputs": [
    {
     "data": {
      "text/plain": [
       "1.0"
      ]
     },
     "execution_count": 17,
     "metadata": {},
     "output_type": "execute_result"
    }
   ],
   "source": [
    "reg.score(x_test.reshape(-1,1),rpred_test)"
   ]
  },
  {
   "cell_type": "code",
   "execution_count": 18,
   "id": "acc18ac5",
   "metadata": {},
   "outputs": [
    {
     "data": {
      "text/plain": [
       "1.0"
      ]
     },
     "execution_count": 18,
     "metadata": {},
     "output_type": "execute_result"
    }
   ],
   "source": [
    "reg.score(x_train.reshape(-1,1),rpred_train)"
   ]
  },
  {
   "cell_type": "code",
   "execution_count": 19,
   "id": "ed32370e",
   "metadata": {},
   "outputs": [
    {
     "data": {
      "text/plain": [
       "<AxesSubplot:xlabel='bedrooms', ylabel='price'>"
      ]
     },
     "execution_count": 19,
     "metadata": {},
     "output_type": "execute_result"
    },
    {
     "data": {
      "image/png": "[encoded data removed]",
      "text/plain": [
       "<Figure size 432x288 with 1 Axes>"
      ]
     },
     "metadata": {
      "needs_background": "light"
     },
     "output_type": "display_data"
    }
   ],
   "source": [
    "sns.regplot(data=df,x=\"bedrooms\",y=\"price\")"
   ]
  },
  {
   "cell_type": "code",
   "execution_count": 20,
   "id": "ef09d5d1",
   "metadata": {},
   "outputs": [
    {
     "data": {
      "text/plain": [
       "2620704788884.933"
      ]
     },
     "execution_count": 20,
     "metadata": {},
     "output_type": "execute_result"
    }
   ],
   "source": [
    "from sklearn.metrics import mean_squared_error\n",
    "mean_squared_error(y_train,rpred_train)"
   ]
  },
  {
   "cell_type": "code",
   "execution_count": 21,
   "id": "da0b3d29",
   "metadata": {},
   "outputs": [
    {
     "data": {
      "text/plain": [
       "2386732219065.1006"
      ]
     },
     "execution_count": 21,
     "metadata": {},
     "output_type": "execute_result"
    }
   ],
   "source": [
    "mean_squared_error(y_test,rpred_test)"
   ]
  },
  {
   "cell_type": "code",
   "execution_count": 22,
   "id": "bc920593",
   "metadata": {},
   "outputs": [
    {
     "data": {
      "text/plain": [
       "1618859.100998272"
      ]
     },
     "execution_count": 22,
     "metadata": {},
     "output_type": "execute_result"
    }
   ],
   "source": [
    "mean_squared_error(y_train,rpred_train,squared=False)"
   ]
  },
  {
   "cell_type": "code",
   "execution_count": 23,
   "id": "1d707d91",
   "metadata": {},
   "outputs": [
    {
     "data": {
      "text/plain": [
       "0.2583471506022983"
      ]
     },
     "execution_count": 23,
     "metadata": {},
     "output_type": "execute_result"
    }
   ],
   "source": [
    "from sklearn.metrics import r2_score\n",
    "r2_score(y_train,rpred_train)"
   ]
  },
  {
   "cell_type": "code",
   "execution_count": 24,
   "id": "18176621",
   "metadata": {},
   "outputs": [],
   "source": [
    "x1=df.iloc[:,1:4].values\n",
    "y1=df.iloc[:,0].values"
   ]
  },
  {
   "cell_type": "code",
   "execution_count": 25,
   "id": "acb85dc8",
   "metadata": {},
   "outputs": [
    {
     "data": {
      "text/plain": [
       "array([[4.000e+03, 3.000e+00, 1.000e+00],\n",
       "       [2.015e+03, 3.000e+00, 1.000e+00],\n",
       "       [1.905e+03, 5.000e+00, 1.000e+00],\n",
       "       ...,\n",
       "       [8.250e+03, 3.000e+00, 2.000e+00],\n",
       "       [3.960e+03, 3.000e+00, 1.000e+00],\n",
       "       [3.500e+03, 4.000e+00, 2.000e+00]])"
      ]
     },
     "execution_count": 25,
     "metadata": {},
     "output_type": "execute_result"
    }
   ],
   "source": [
    "x1_train,x1_test,y1_train,y1_test=train_test_split(x1,y1,train_size=0.75)\n",
    "x1_train"
   ]
  },
  {
   "cell_type": "code",
   "execution_count": 26,
   "id": "b963201d",
   "metadata": {},
   "outputs": [
    {
     "data": {
      "text/plain": [
       "array([ 4585000.,  3850000.,  4340000.,  7420000.,  5873000.,  3290000.,\n",
       "        4270000.,  2520000.,  2975000.,  4270000.,  4550000.,  7350000.,\n",
       "        2852500.,  4130000.,  2730000.,  7420000.,  2660000.,  4900000.,\n",
       "        6650000.,  6510000.,  5810000.,  4410000.,  4655000.,  3150000.,\n",
       "        5460000.,  7910000.,  3010000.,  4515000.,  8190000.,  2520000.,\n",
       "        4375000.,  2275000.,  2660000.,  3815000.,  3570000.,  3710000.,\n",
       "        7070000.,  5215000.,  6083000.,  2380000.,  5250000.,  6755000.,\n",
       "        8295000.,  4690000.,  5250000.,  6790000.,  3703000.,  9681000.,\n",
       "        5943000.,  3150000.,  3500000.,  7000000.,  2450000.,  2653000.,\n",
       "        4270000.,  3220000.,  5390000.,  3640000.,  4900000.,  6419000.,\n",
       "        5950000.,  3395000.,  7245000.,  3500000.,  4098500.,  3150000.,\n",
       "        5495000.,  3780000.,  6090000.,  5600000.,  3325000.,  8890000.,\n",
       "       10150000.,  4900000.,  6300000.,  4060000.,  5250000.,  5600000.,\n",
       "        5950000.,  5600000.,  3710000.,  9800000.,  5565000.,  5775000.,\n",
       "       10150000.,  3465000.,  3045000.,  4620000.,  6650000.,  6685000.,\n",
       "        3920000.,  1767150.,  3633000.,  3710000.,  6090000.,  2660000.,\n",
       "        4900000.,  7070000.,  1750000.,  3640000.,  5320000.,  5565000.,\n",
       "        3850000.,  3773000.,  3010000.,  3570000.,  6930000.,  3395000.,\n",
       "        3850000.,  2870000.,  4123000.,  4305000.,  4620000.,  3500000.,\n",
       "       12215000.,  3990000.,  3430000.,  4403000.,  5075000.,  4830000.,\n",
       "        6475000.,  2100000.,  4340000.,  3780000.,  4900000.,  8120000.,\n",
       "        3500000.,  6160000.,  5600000.,  2590000.,  5740000.,  2870000.,\n",
       "        4900000.,  4767000.,  5495000.,  3500000.,  5425000.,  5040000.,\n",
       "        4235000.,  1855000.,  4200000.,  1890000.,  5600000.,  3500000.,\n",
       "        4760000.,  5110000.,  8645000.,  3087000.,  4319000.,  3150000.,\n",
       "        4060000.,  4480000.,  6107500.,  8575000.,  6300000.,  5383000.,\n",
       "        2800000.,  3150000.,  4515000.,  7700000.,  2275000.,  8463000.,\n",
       "        5950000.,  2135000.,  8400000.,  3395000.,  5145000.,  3360000.,\n",
       "        3129000.,  4893000.,  3640000.,  7980000.,  4550000.,  3780000.,\n",
       "       13300000.,  4200000.,  4900000.,  6650000.,  4690000.,  3115000.,\n",
       "        6300000.,  8855000.,  4200000.,  3360000.,  8960000.,  6230000.,\n",
       "        2604000.,  2485000.,  2590000.,  3332000.,  7560000.,  4830000.,\n",
       "        6475000.,  2450000.,  2450000.,  9870000.,  5250000.,  1820000.,\n",
       "        6195000.,  3500000.,  3430000.,  7455000.,  5110000.,  2695000.,\n",
       "        3290000.,  3500000.,  4165000.,  3850000.,  3500000.,  3150000.,\n",
       "        2961000.,  7700000.,  4956000.,  5460000.,  4613000.,  3850000.,\n",
       "        3255000.,  4060000.,  7343000.,  5005000.,  4550000.,  3500000.,\n",
       "        3360000.,  3535000.,  1960000.,  7035000.,  5600000.,  2520000.,\n",
       "        5950000.,  3920000.,  3675000.,  7490000.,  5460000.,  3500000.,\n",
       "        6650000.,  3423000.,  7350000.,  3773000.,  5880000.,  2485000.,\n",
       "        3605000.,  4543000.,  3150000.,  5040000.,  5530000.,  6720000.,\n",
       "        3010000.,  1750000.,  4620000.,  1890000.,  3780000.,  2940000.,\n",
       "        4760000.,  5740000.,  3675000.,  3143000.,  3500000.,  5040000.,\n",
       "        7350000.,  2940000.,  4900000.,  3353000.,  3010000.,  2730000.,\n",
       "        6293000.,  3430000.,  4340000.,  6083000.,  6790000.,  7210000.,\n",
       "        6650000.,  8680000.,  4200000.,  6405000.,  3118850.,  4480000.,\n",
       "        3773000.,  4200000.,  4753000.,  5880000.,  4270000.,  3780000.,\n",
       "        4900000.,  8400000.,  4193000.,  2345000.,  2450000.,  3465000.,\n",
       "        5460000.,  7140000.,  4907000.,  3640000.,  7525000.,  3990000.,\n",
       "        4690000.,  2835000.,  8080940.,  3500000.,  2940000.,  8400000.,\n",
       "        5530000.,  4270000.,  5215000.,  4480000.,  2940000.,  4970000.,\n",
       "        6615000.,  4200000.,  4403000.,  4007500.,  3115000.,  4550000.,\n",
       "        3920000.,  2240000.,  6440000.,  5110000.,  9800000.,  4305000.,\n",
       "        4060000.,  8043000.,  3150000.,  3640000.,  3150000.,  6300000.,\n",
       "        5250000.,  3500000.,  2870000.,  4382000.,  4340000.,  5243000.,\n",
       "        3703000.,  5250000.,  6300000.,  3255000.,  4025000.,  3360000.,\n",
       "        5110000.,  2310000.,  4690000.,  3493000.,  3885000.,  4543000.,\n",
       "        6195000.,  6020000.,  3710000.,  2233000.,  3990000.,  3115000.,\n",
       "        2450000.,  6440000.,  5600000.,  4235000.,  6020000.,  3500000.,\n",
       "        4690000.,  6615000.,  5652500.,  5740000.,  4200000.,  6195000.,\n",
       "        4025000.,  4620000.,  7210000.,  3080000.,  4200000.,  7962500.,\n",
       "        1750000.,  3920000.,  4473000.,  4935000.,  2450000.,  5530000.,\n",
       "        4620000.,  2660000.,  4165000.,  5803000.,  4795000.,  4200000.,\n",
       "        5250000., 12250000.,  5285000.,  2940000.,  4095000.,  9310000.,\n",
       "        5145000.,  9100000.,  6090000.,  4025000.,  6160000.,  2100000.,\n",
       "        3850000.,  3010000.,  5810000.,  5600000.,  5950000.,  4200000.,\n",
       "        3675000.,  3360000.,  3430000.,  4515000.,  4277000.,  8645000.,\n",
       "        6265000.,  2940000.,  2870000.,  6510000.,  2800000.,  9240000.])"
      ]
     },
     "execution_count": 26,
     "metadata": {},
     "output_type": "execute_result"
    }
   ],
   "source": [
    "y1_train"
   ]
  },
  {
   "cell_type": "code",
   "execution_count": 27,
   "id": "423a2d5b",
   "metadata": {},
   "outputs": [
    {
     "data": {
      "text/html": [
       "<style>#sk-container-id-2 {color: black;background-color: white;}#sk-container-id-2 pre{padding: 0;}#sk-container-id-2 div.sk-toggleable {background-color: white;}#sk-container-id-2 label.sk-toggleable__label {cursor: pointer;display: block;width: 100%;margin-bottom: 0;padding: 0.3em;box-sizing: border-box;text-align: center;}#sk-container-id-2 label.sk-toggleable__label-arrow:before {content: \"▸\";float: left;margin-right: 0.25em;color: #696969;}#sk-container-id-2 label.sk-toggleable__label-arrow:hover:before {color: black;}#sk-container-id-2 div.sk-estimator:hover label.sk-toggleable__label-arrow:before {color: black;}#sk-container-id-2 div.sk-toggleable__content {max-height: 0;max-width: 0;overflow: hidden;text-align: left;background-color: #f0f8ff;}#sk-container-id-2 div.sk-toggleable__content pre {margin: 0.2em;color: black;border-radius: 0.25em;background-color: #f0f8ff;}#sk-container-id-2 input.sk-toggleable__control:checked~div.sk-toggleable__content {max-height: 200px;max-width: 100%;overflow: auto;}#sk-container-id-2 input.sk-toggleable__control:checked~label.sk-toggleable__label-arrow:before {content: \"▾\";}#sk-container-id-2 div.sk-estimator input.sk-toggleable__control:checked~label.sk-toggleable__label {background-color: #d4ebff;}#sk-container-id-2 div.sk-label input.sk-toggleable__control:checked~label.sk-toggleable__label {background-color: #d4ebff;}#sk-container-id-2 input.sk-hidden--visually {border: 0;clip: rect(1px 1px 1px 1px);clip: rect(1px, 1px, 1px, 1px);height: 1px;margin: -1px;overflow: hidden;padding: 0;position: absolute;width: 1px;}#sk-container-id-2 div.sk-estimator {font-family: monospace;background-color: #f0f8ff;border: 1px dotted black;border-radius: 0.25em;box-sizing: border-box;margin-bottom: 0.5em;}#sk-container-id-2 div.sk-estimator:hover {background-color: #d4ebff;}#sk-container-id-2 div.sk-parallel-item::after {content: \"\";width: 100%;border-bottom: 1px solid gray;flex-grow: 1;}#sk-container-id-2 div.sk-label:hover label.sk-toggleable__label {background-color: #d4ebff;}#sk-container-id-2 div.sk-serial::before {content: \"\";position: absolute;border-left: 1px solid gray;box-sizing: border-box;top: 0;bottom: 0;left: 50%;z-index: 0;}#sk-container-id-2 div.sk-serial {display: flex;flex-direction: column;align-items: center;background-color: white;padding-right: 0.2em;padding-left: 0.2em;position: relative;}#sk-container-id-2 div.sk-item {position: relative;z-index: 1;}#sk-container-id-2 div.sk-parallel {display: flex;align-items: stretch;justify-content: center;background-color: white;position: relative;}#sk-container-id-2 div.sk-item::before, #sk-container-id-2 div.sk-parallel-item::before {content: \"\";position: absolute;border-left: 1px solid gray;box-sizing: border-box;top: 0;bottom: 0;left: 50%;z-index: -1;}#sk-container-id-2 div.sk-parallel-item {display: flex;flex-direction: column;z-index: 1;position: relative;background-color: white;}#sk-container-id-2 div.sk-parallel-item:first-child::after {align-self: flex-end;width: 50%;}#sk-container-id-2 div.sk-parallel-item:last-child::after {align-self: flex-start;width: 50%;}#sk-container-id-2 div.sk-parallel-item:only-child::after {width: 0;}#sk-container-id-2 div.sk-dashed-wrapped {border: 1px dashed gray;margin: 0 0.4em 0.5em 0.4em;box-sizing: border-box;padding-bottom: 0.4em;background-color: white;}#sk-container-id-2 div.sk-label label {font-family: monospace;font-weight: bold;display: inline-block;line-height: 1.2em;}#sk-container-id-2 div.sk-label-container {text-align: center;}#sk-container-id-2 div.sk-container {/* jupyter's `normalize.less` sets `[hidden] { display: none; }` but bootstrap.min.css set `[hidden] { display: none !important; }` so we also need the `!important` here to be able to override the default hidden behavior on the sphinx rendered scikit-learn.org. See: https://github.com/scikit-learn/scikit-learn/issues/21755 */display: inline-block !important;position: relative;}#sk-container-id-2 div.sk-text-repr-fallback {display: none;}</style><div id=\"sk-container-id-2\" class=\"sk-top-container\"><div class=\"sk-text-repr-fallback\"><pre>LinearRegression()</pre><b>In a Jupyter environment, please rerun this cell to show the HTML representation or trust the notebook. <br />On GitHub, the HTML representation is unable to render, please try loading this page with nbviewer.org.</b></div><div class=\"sk-container\" hidden><div class=\"sk-item\"><div class=\"sk-estimator sk-toggleable\"><input class=\"sk-toggleable__control sk-hidden--visually\" id=\"sk-estimator-id-2\" type=\"checkbox\" checked><label for=\"sk-estimator-id-2\" class=\"sk-toggleable__label sk-toggleable__label-arrow\">LinearRegression</label><div class=\"sk-toggleable__content\"><pre>LinearRegression()</pre></div></div></div></div></div>"
      ],
      "text/plain": [
       "LinearRegression()"
      ]
     },
     "execution_count": 27,
     "metadata": {},
     "output_type": "execute_result"
    }
   ],
   "source": [
    "from sklearn import linear_model\n",
    "\n",
    "reg = linear_model.LinearRegression()\n",
    "reg.fit(x1_train,y1_train)"
   ]
  },
  {
   "cell_type": "code",
   "execution_count": 28,
   "id": "350b2953",
   "metadata": {},
   "outputs": [
    {
     "data": {
      "text/plain": [
       "array([ 3886820.70027626,  3168432.0088387 ,  3797668.99058286,\n",
       "        6677047.06171026,  4429683.69128701,  3924579.06573286,\n",
       "        4406401.67225737,  3481483.00032157,  4348736.01604259,\n",
       "        3226337.39454652,  5813742.27445027,  4610638.02162393,\n",
       "        4655634.560294  ,  4605209.39171382,  3886820.70027626,\n",
       "        4728258.33634293,  3364104.72951673,  3595726.27234798,\n",
       "        3901297.04670322,  4853116.8242754 ,  4176347.62881533,\n",
       "        3878015.02767357,  3794533.99180443,  4547546.04992016,\n",
       "        4646828.88769131,  6490422.05754908,  4087437.96303608,\n",
       "        3687770.93690565,  7686682.812629  ,  3190388.57239329,\n",
       "        3850629.83420888,  2769126.89136895,  3886820.70027626,\n",
       "        4789935.44021037,  3733251.56340404,  3566773.57949408,\n",
       "        5318411.49715543,  5044928.41443253,  5920747.37326321,\n",
       "        5327609.53080405,  6237085.9950774 ,  6490422.05754908,\n",
       "        6085084.35759439,  4310253.83326465,  6155626.09404052,\n",
       "        8694445.80105272,  4077064.79104418,  8035682.62626509,\n",
       "        8084961.16409273,  3036335.34769275,  3537940.75138669,\n",
       "        6483515.34061102,  4891359.27756031,  3886820.70027626,\n",
       "        3733251.56340404,  3568341.07888329,  6412853.73941836,\n",
       "        3262528.2606139 ,  3514054.77978221,  4547546.04992016,\n",
       "        4979784.85551124,  3687770.93690565,  7576148.03957058,\n",
       "        5125995.95442347,  3742057.23600673,  3687770.93690565,\n",
       "        5338466.79062427,  3407533.76879759,  5469085.36474226,\n",
       "        6390655.13194962,  4501823.37950762,  5649226.46539657,\n",
       "       12061674.43234733,  4120613.69507156,  4755401.48589346,\n",
       "        6454231.1914817 ,  6685852.73431295,  4297948.93880174,\n",
       "        6968141.48963854,  4740925.13946651,  3570392.66610081,\n",
       "        7216380.37847553,  4366107.63175494,  6155898.59033994,\n",
       "        8969406.97080358,  4030016.66515658,  3479915.50093236,\n",
       "        4252348.44755683,  6336852.92067686,  6038520.3195351 ,\n",
       "        3295342.0839887 ,  3307766.84319813,  3713104.54315282,\n",
       "        3401743.23022681,  6712995.88386349,  3528411.26146265,\n",
       "        3524912.03960243,  6577280.1361108 ,  3492340.26014178,\n",
       "        3653631.6580558 ,  5262073.61083683,  5062539.75963791,\n",
       "        6571609.46228654,  5281736.54325974,  3130673.64338211,\n",
       "        3422010.11522454,  7198195.53308058,  3422010.11522454,\n",
       "        4800792.70003059,  3418391.0286178 ,  4297829.07405522,\n",
       "        5854036.3149527 ,  5388652.22971141,  3760152.66904042,\n",
       "        7033285.04855983,  4257535.03355279,  3832534.40117519,\n",
       "        4219776.66809619,  4174780.12942612,  4625114.36805088,\n",
       "        3872344.35384931,  3859435.50681157,  5613035.59932919,\n",
       "        5144695.34003199,  4719210.61982608,  5583688.23100823,\n",
       "        4239923.68834741,  6291372.29417847,  5904703.52744704,\n",
       "        3407533.76879759,  6273276.86114478,  4728016.29242877,\n",
       "        7107807.78027338,  5556697.71301059,  5327217.16975812,\n",
       "        4438489.3638897 ,  4909212.66667984,  4827783.21802823,\n",
       "        4845878.65106192,  3186769.48578655,  4263205.70737705,\n",
       "        3054430.78072645,  5974944.26000302,  3422010.11522454,\n",
       "        5810607.27567184,  5070172.60831844,  5352550.77600529,\n",
       "        5036122.74182984,  3563878.31020869,  3586678.55583114,\n",
       "        4002631.47169189,  3886820.70027626,  3946293.58537329,\n",
       "        7169242.84022667,  5696364.00364543,  6318757.48764316,\n",
       "        3398244.00836659,  5696364.00364543,  6007605.45182493,\n",
       "        6490422.05754908,  3875963.44045605,  6155898.59033994,\n",
       "        4762639.65910694,  3190388.57239329,  6689713.86483384,\n",
       "        4170918.99890522,  3673294.5904787 ,  4040389.83714849,\n",
       "        4427874.14798364,  6126703.85357188,  3190388.57239329,\n",
       "        7576148.03957058,  3799962.62171454,  4183585.80202881,\n",
       "        7004332.35570592,  4972546.68229776,  4203732.82228002,\n",
       "        6155898.59033994,  3752914.49582694,  3371342.90273021,\n",
       "        5468272.13505966,  6307900.22782295,  4221828.25531371,\n",
       "        3796343.5351078 ,  7060670.24202452,  4429683.69128701,\n",
       "        3157816.79293264,  4031584.1645458 ,  3697060.69733666,\n",
       "        3215480.1347263 ,  6155898.59033994,  3847252.7915163 ,\n",
       "        5120929.23317404,  3600912.85834393,  3277246.65095501,\n",
       "        5705169.67624812,  5522647.84652199,  3190388.57239329,\n",
       "        6282566.62157578,  4232685.51513393,  3383767.66193963,\n",
       "        5540653.86719442,  6234040.40866023,  3552297.23306712,\n",
       "        3009434.24205637,  4757121.61683557,  3903468.49866726,\n",
       "        3581249.92592103,  5877318.33398235,  3371342.90273021,\n",
       "        3190388.57239329,  6329614.74746338,  4997790.87618367,\n",
       "        5124458.90741951,  5951178.15314507,  5027556.79872019,\n",
       "        3526963.62681995,  5791094.66038072,  6913944.60289872,\n",
       "        6934002.21078868,  3713104.54315282,  7123731.76134303,\n",
       "        3561102.90566981,  3832534.40117519,  4345960.61150372,\n",
       "        6620709.17539166,  4248729.3609501 ,  3590055.59852372,\n",
       "        6582346.85736023,  4764207.15849615,  3418391.0286178 ,\n",
       "        4827783.21802823,  5021162.30757458,  4745627.63763415,\n",
       "        5860700.98797661,  3566773.57949408,  5848276.22876718,\n",
       "        5424932.50814006,  5030452.06800558,  3524912.03960243,\n",
       "        3733251.56340404,  5133748.66785051,  3018724.00248737,\n",
       "        3385819.24915716,  6724005.7752366 ,  4255967.53416357,\n",
       "        3769442.42947142,  3414771.94201107,  4494827.2502083 ,\n",
       "        3425267.29317061,  3342390.2098763 ,  3899729.547314  ,\n",
       "        4726810.70170023,  4452965.71031666,  4145827.43657221,\n",
       "        4067775.03061318,  3375685.80665829,  5524215.3459112 ,\n",
       "        6490422.05754908,  3698628.19672587,  4871212.25730909,\n",
       "        3416339.44140028,  3611770.11816415,  4565641.48295386,\n",
       "        6373043.78674424,  4690168.51461091,  4040389.83714849,\n",
       "        6544224.26882184,  5432081.26899227,  6155898.59033994,\n",
       "        6307900.22782295,  6573903.09341822,  3507902.33255076,\n",
       "        5721608.19753134,  3307043.02587678,  3901297.04670322,\n",
       "        5565503.38561328,  3713104.54315282,  4435354.36511128,\n",
       "        6336852.92067686,  4406401.67225737,  3472797.1924654 ,\n",
       "        4728016.29242877,  4972546.68229776,  3687770.93690565,\n",
       "        3422010.11522454,  3856300.50803314,  3546626.55924286,\n",
       "        6707567.25395338,  6155898.59033994,  3959202.43241103,\n",
       "        4923841.64465969,  6155898.59033994,  5613035.59932919,\n",
       "        4002631.47169189,  3060101.45455071,  6517807.25101377,\n",
       "        3883201.61366952,  3742057.23600673,  6309467.72721216,\n",
       "        6192089.45640732,  4351631.28532798,  5947559.06653833,\n",
       "        4234495.0584373 ,  3081815.97419114,  5220816.02352001,\n",
       "        5432081.26899227,  6808812.26658079,  4205300.32166924,\n",
       "        4025913.49072153,  3524912.03960243,  4379016.47879268,\n",
       "        5363408.0358255 ,  3144907.9458949 ,  9303930.43801272,\n",
       "        3524912.03960243,  6065421.42517148,  3697060.69733666,\n",
       "        4009869.64490537,  6692247.22545856,  3215360.26997978,\n",
       "        4596161.67519698,  5092491.0805337 ,  6490422.05754908,\n",
       "        5479218.80724113,  3568341.07888329,  4276114.55441479,\n",
       "        4565157.39512555,  3913963.8498268 ,  4628733.45465762,\n",
       "        3568341.07888329,  4315440.4192606 ,  6590188.98314854,\n",
       "        3733251.56340404,  4393492.82521963,  3595726.27234798,\n",
       "        4646828.88769131,  3255532.13131458,  7817541.11624003,\n",
       "        4212538.49488271,  5469839.63444887,  6124894.31026851,\n",
       "        5974944.26000302,  4565641.48295386,  3742057.23600673,\n",
       "        4357301.95915225,  4784354.17874737,  3832534.40117519,\n",
       "        3190388.57239329,  4248729.3609501 ,  6707567.25395338,\n",
       "        3447825.4948789 ,  5334455.3429716 ,  3973678.77883798,\n",
       "        4276114.55441479,  7784487.56337219,  6729281.77359381,\n",
       "        6083516.85820517,  4429683.69128701,  5974944.26000302,\n",
       "        5236650.5922284 ,  3143340.44650569,  7098428.60748112,\n",
       "        3220908.76463641,  5766604.73620141,  4610638.02162393,\n",
       "        3832534.40117519,  6611903.50278897,  3709485.45654608,\n",
       "        4591818.77126889,  3371342.90273021,  5305413.23775643,\n",
       "        3944726.08598408,  3318624.10301834,  4190823.97524228,\n",
       "        4972546.68229776,  5705169.67624812,  4538256.28948916,\n",
       "        3814438.9681415 ,  7589056.88660832,  5314702.99818743,\n",
       "        4833211.84793834,  5316270.49757665,  6689471.82091969,\n",
       "        5327217.16975812,  6707567.25395338,  4827783.21802823,\n",
       "        5298175.06454295,  4067775.03061318,  3320675.69023587,\n",
       "        2892175.83599805,  3557483.81906307,  4321111.09308486,\n",
       "        8119011.03058133,  4806068.6983878 ,  5649226.46539657,\n",
       "        3407533.76879759,  3450962.80807845,  3215480.1347263 ,\n",
       "        3378581.07594368,  3669675.50387196,  5634750.11896962,\n",
       "        4945161.48883307,  3579198.3387035 ,  3204864.91882024,\n",
       "        6970193.07685606,  3872344.35384931,  5585650.4058645 ])"
      ]
     },
     "execution_count": 28,
     "metadata": {},
     "output_type": "execute_result"
    }
   ],
   "source": [
    "rpred_train1=reg.predict(x1_train)\n",
    "rpred_train1"
   ]
  },
  {
   "cell_type": "code",
   "execution_count": 29,
   "id": "b11bbcbd",
   "metadata": {},
   "outputs": [
    {
     "data": {
      "text/plain": [
       "array([ 3731199.97618651,  6155898.59033994,  4809687.78499454,\n",
       "        4936355.81623038,  4502065.42342178,  3566773.57949408,\n",
       "        4556351.72252285,  4762639.65910694,  7460247.85579369,\n",
       "        5056147.58291342,  6677047.06171026,  5301794.15114969,\n",
       "        3362053.1422992 ,  3828915.31456845,  4568776.48173228,\n",
       "        3285932.45881118,  3420200.57192117,  3678965.26430296,\n",
       "        8244022.1500667 ,  4945161.48883307,  3698628.19672587,\n",
       "        5313133.1843771 ,  7865674.96810965,  3899729.547314  ,\n",
       "        3633484.63780458,  3566773.57949408,  3452530.30746766,\n",
       "        6481616.38494639,  3733251.56340404,  3944726.08598408,\n",
       "        3859435.50681157,  3222960.35185393,  4952794.3375136 ,\n",
       "        4098295.2228563 ,  2828479.91171946,  4091057.04964282,\n",
       "        3481483.00032157,  6843435.63325896,  3076025.43562036,\n",
       "        4610638.02162393,  5003308.91845504,  4740925.13946651,\n",
       "        3700679.78394339,  5556697.71301059,  3472677.32771888,\n",
       "        4405917.58442906,  4131351.09014526,  3915773.39313017,\n",
       "        3921202.02304028,  4610638.02162393,  6685852.73431295,\n",
       "        5018027.30879615,  4916692.88380747,  3756533.58243368,\n",
       "        3418391.0286178 ,  4075013.20382666,  5459071.78698991,\n",
       "        4450070.44103127,  4764691.24632446,  3590055.59852372,\n",
       "        5424932.50814006,  4567208.98234307,  4617876.19483741,\n",
       "        6881856.91126639,  3841824.16160619,  3583541.24263159,\n",
       "        4058969.35801049,  4406401.67225737,  3823728.7285725 ,\n",
       "        5015886.30921736,  5651125.4210612 ,  6311608.72679095,\n",
       "        3206916.50603777,  4002631.47169189,  4146067.16606525,\n",
       "        3280623.69364759,  4922603.28712477,  4067775.03061318,\n",
       "       10652192.83057565,  3215480.1347263 ,  4882913.19919717,\n",
       "        5974944.26000302,  5424932.50814006,  3552297.23306712,\n",
       "        4067775.03061318,  3875239.6231347 ,  3570392.66610081,\n",
       "        6586659.30890306,  4033151.66393501,  4112771.56928325,\n",
       "        3579198.3387035 ,  5947559.06653833,  3498010.93396605,\n",
       "        4248729.3609501 ,  3215480.1347263 ,  4214590.08210024,\n",
       "        6771143.31348546,  3461820.06789866,  3709485.45654608,\n",
       "        6286185.70818252,  3257341.67461795,  3364104.72951673,\n",
       "        3307766.84319813,  3257341.67461795,  6345900.6371937 ,\n",
       "        4165490.36899511,  4632352.54126436,  3915411.4844695 ,\n",
       "        3334909.99274867,  4364540.13236572,  3215480.1347263 ,\n",
       "        4474680.22995709,  3796343.5351078 ,  6373043.78674424,\n",
       "        5135316.16723973,  6490422.05754908,  4972546.68229776,\n",
       "        4276234.41916131,  5108020.3861363 ,  3872344.35384931,\n",
       "        3651580.07083827,  4013488.7315121 ,  3485706.03950314,\n",
       "        6807334.17955284,  6155898.59033994,  3566773.57949408,\n",
       "        4002631.47169189,  5421917.37410815,  3257341.67461795,\n",
       "        3552297.23306712,  7530667.4130722 ,  3799962.62171454,\n",
       "        4176347.62881533,  5479129.39487987,  5095264.17065145,\n",
       "        3524912.03960243,  4020726.90472558])"
      ]
     },
     "execution_count": 29,
     "metadata": {},
     "output_type": "execute_result"
    }
   ],
   "source": [
    "rpred_test1=reg.predict(x1_test)\n",
    "rpred_test1"
   ]
  },
  {
   "cell_type": "code",
   "execution_count": 30,
   "id": "53933569",
   "metadata": {},
   "outputs": [
    {
     "data": {
      "text/plain": [
       "1.0"
      ]
     },
     "execution_count": 30,
     "metadata": {},
     "output_type": "execute_result"
    }
   ],
   "source": [
    "reg.score(x1_test,rpred_test1)"
   ]
  },
  {
   "cell_type": "code",
   "execution_count": 31,
   "id": "de460286",
   "metadata": {},
   "outputs": [
    {
     "data": {
      "text/plain": [
       "1.0"
      ]
     },
     "execution_count": 31,
     "metadata": {},
     "output_type": "execute_result"
    }
   ],
   "source": [
    "reg.score(x1_train,rpred_train1)"
   ]
  },
  {
   "cell_type": "code",
   "execution_count": 32,
   "id": "830b3bb6",
   "metadata": {},
   "outputs": [
    {
     "data": {
      "text/plain": [
       "<AxesSubplot:xlabel='bedrooms', ylabel='price'>"
      ]
     },
     "execution_count": 32,
     "metadata": {},
     "output_type": "execute_result"
    },
    {
     "data": {
      "image/png": "[encoded data removed]",
      "text/plain": [
       "<Figure size 432x288 with 1 Axes>"
      ]
     },
     "metadata": {
      "needs_background": "light"
     },
     "output_type": "display_data"
    }
   ],
   "source": [
    "sns.regplot(data=df,x=\"bedrooms\",y=\"price\")  "
   ]
  },
  {
   "cell_type": "code",
   "execution_count": 33,
   "id": "47b6afcb",
   "metadata": {},
   "outputs": [
    {
     "data": {
      "text/plain": [
       "<AxesSubplot:xlabel='bathrooms', ylabel='price'>"
      ]
     },
     "execution_count": 33,
     "metadata": {},
     "output_type": "execute_result"
    },
    {
     "data": {
      "image/png": "[encoded data removed]",
      "text/plain": [
       "<Figure size 432x288 with 1 Axes>"
      ]
     },
     "metadata": {
      "needs_background": "light"
     },
     "output_type": "display_data"
    }
   ],
   "source": [
    "sns.regplot(data=df,x=\"bathrooms\",y=\"price\")  "
   ]
  },
  {
   "cell_type": "code",
   "execution_count": 34,
   "id": "9665ddb0",
   "metadata": {},
   "outputs": [
    {
     "data": {
      "text/plain": [
       "<AxesSubplot:xlabel='stories', ylabel='price'>"
      ]
     },
     "execution_count": 34,
     "metadata": {},
     "output_type": "execute_result"
    },
    {
     "data": {
      "image/png": "[encoded data removed]",
      "text/plain": [
       "<Figure size 432x288 with 1 Axes>"
      ]
     },
     "metadata": {
      "needs_background": "light"
     },
     "output_type": "display_data"
    }
   ],
   "source": [
    "sns.regplot(data=df,x=\"stories\",y=\"price\")  "
   ]
  },
  {
   "cell_type": "code",
   "execution_count": 36,
   "id": "41ae4d57",
   "metadata": {},
   "outputs": [
    {
     "data": {
      "text/plain": [
       "1770169041946.59"
      ]
     },
     "execution_count": 36,
     "metadata": {},
     "output_type": "execute_result"
    }
   ],
   "source": [
    "from sklearn.metrics import mean_squared_error\n",
    "mean_squared_error(y1_train,rpred_train1)"
   ]
  },
  {
   "cell_type": "code",
   "execution_count": 37,
   "id": "16848a3f",
   "metadata": {},
   "outputs": [
    {
     "data": {
      "text/plain": [
       "1885214228461.019"
      ]
     },
     "execution_count": 37,
     "metadata": {},
     "output_type": "execute_result"
    }
   ],
   "source": [
    "from sklearn.metrics import mean_squared_error\n",
    "mean_squared_error(y1_test,rpred_test1)"
   ]
  },
  {
   "cell_type": "code",
   "execution_count": 38,
   "id": "b6d1121f",
   "metadata": {},
   "outputs": [
    {
     "data": {
      "text/plain": [
       "1330476.997902102"
      ]
     },
     "execution_count": 38,
     "metadata": {},
     "output_type": "execute_result"
    }
   ],
   "source": [
    "from sklearn.metrics import mean_squared_error\n",
    "mean_squared_error(y1_train,rpred_train1,squared=False)"
   ]
  },
  {
   "cell_type": "code",
   "execution_count": 39,
   "id": "09f8c8ba",
   "metadata": {},
   "outputs": [
    {
     "data": {
      "text/plain": [
       "0.4968322519103562"
      ]
     },
     "execution_count": 39,
     "metadata": {},
     "output_type": "execute_result"
    }
   ],
   "source": [
    "from sklearn.metrics import r2_score\n",
    "r2_score(y1_train,rpred_train1)"
   ]
  },
  {
   "cell_type": "code",
   "execution_count": null,
   "id": "42fc36bd",
   "metadata": {},
   "outputs": [],
   "source": []
  }
 ],
 "metadata": {
  "kernelspec": {
   "display_name": "Python 3 (ipykernel)",
   "language": "python",
   "name": "python3"
  },
  "language_info": {
   "codemirror_mode": {
    "name": "ipython",
    "version": 3
   },
   "file_extension": ".py",
   "mimetype": "text/x-python",
   "name": "python",
   "nbconvert_exporter": "python",
   "pygments_lexer": "ipython3",
   "version": "3.9.12"
  }
 },
 "nbformat": 4,
 "nbformat_minor": 5
}
