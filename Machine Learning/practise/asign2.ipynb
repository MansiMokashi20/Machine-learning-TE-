{
 "cells": [
  {
   "cell_type": "code",
   "execution_count": 4,
   "id": "0ef037c5",
   "metadata": {},
   "outputs": [
    {
     "data": {
      "text/html": [
       "<div>\n",
       "<style scoped>\n",
       "    .dataframe tbody tr th:only-of-type {\n",
       "        vertical-align: middle;\n",
       "    }\n",
       "\n",
       "    .dataframe tbody tr th {\n",
       "        vertical-align: top;\n",
       "    }\n",
       "\n",
       "    .dataframe thead th {\n",
       "        text-align: right;\n",
       "    }\n",
       "</style>\n",
       "<table border=\"1\" class=\"dataframe\">\n",
       "  <thead>\n",
       "    <tr style=\"text-align: right;\">\n",
       "      <th></th>\n",
       "      <th>price</th>\n",
       "      <th>area</th>\n",
       "      <th>bedrooms</th>\n",
       "      <th>bathrooms</th>\n",
       "      <th>stories</th>\n",
       "      <th>mainroad</th>\n",
       "      <th>guestroom</th>\n",
       "      <th>basement</th>\n",
       "      <th>hotwaterheating</th>\n",
       "      <th>airconditioning</th>\n",
       "      <th>parking</th>\n",
       "      <th>prefarea</th>\n",
       "      <th>furnishingstatus</th>\n",
       "    </tr>\n",
       "  </thead>\n",
       "  <tbody>\n",
       "    <tr>\n",
       "      <th>0</th>\n",
       "      <td>13300000.0</td>\n",
       "      <td>7420.0</td>\n",
       "      <td>4.0</td>\n",
       "      <td>2.0</td>\n",
       "      <td>3.0</td>\n",
       "      <td>yes</td>\n",
       "      <td>no</td>\n",
       "      <td>no</td>\n",
       "      <td>no</td>\n",
       "      <td>yes</td>\n",
       "      <td>2.0</td>\n",
       "      <td>yes</td>\n",
       "      <td>furnished</td>\n",
       "    </tr>\n",
       "    <tr>\n",
       "      <th>1</th>\n",
       "      <td>12250000.0</td>\n",
       "      <td>8960.0</td>\n",
       "      <td>4.0</td>\n",
       "      <td>4.0</td>\n",
       "      <td>4.0</td>\n",
       "      <td>yes</td>\n",
       "      <td>no</td>\n",
       "      <td>no</td>\n",
       "      <td>no</td>\n",
       "      <td>yes</td>\n",
       "      <td>3.0</td>\n",
       "      <td>no</td>\n",
       "      <td>furnished</td>\n",
       "    </tr>\n",
       "    <tr>\n",
       "      <th>2</th>\n",
       "      <td>12250000.0</td>\n",
       "      <td>9960.0</td>\n",
       "      <td>3.0</td>\n",
       "      <td>2.0</td>\n",
       "      <td>2.0</td>\n",
       "      <td>yes</td>\n",
       "      <td>no</td>\n",
       "      <td>yes</td>\n",
       "      <td>no</td>\n",
       "      <td>no</td>\n",
       "      <td>2.0</td>\n",
       "      <td>yes</td>\n",
       "      <td>semi-furnished</td>\n",
       "    </tr>\n",
       "    <tr>\n",
       "      <th>3</th>\n",
       "      <td>12215000.0</td>\n",
       "      <td>7500.0</td>\n",
       "      <td>4.0</td>\n",
       "      <td>2.0</td>\n",
       "      <td>2.0</td>\n",
       "      <td>yes</td>\n",
       "      <td>no</td>\n",
       "      <td>yes</td>\n",
       "      <td>no</td>\n",
       "      <td>yes</td>\n",
       "      <td>3.0</td>\n",
       "      <td>yes</td>\n",
       "      <td>furnished</td>\n",
       "    </tr>\n",
       "    <tr>\n",
       "      <th>4</th>\n",
       "      <td>11410000.0</td>\n",
       "      <td>7420.0</td>\n",
       "      <td>4.0</td>\n",
       "      <td>1.0</td>\n",
       "      <td>2.0</td>\n",
       "      <td>yes</td>\n",
       "      <td>yes</td>\n",
       "      <td>yes</td>\n",
       "      <td>no</td>\n",
       "      <td>yes</td>\n",
       "      <td>2.0</td>\n",
       "      <td>no</td>\n",
       "      <td>furnished</td>\n",
       "    </tr>\n",
       "    <tr>\n",
       "      <th>...</th>\n",
       "      <td>...</td>\n",
       "      <td>...</td>\n",
       "      <td>...</td>\n",
       "      <td>...</td>\n",
       "      <td>...</td>\n",
       "      <td>...</td>\n",
       "      <td>...</td>\n",
       "      <td>...</td>\n",
       "      <td>...</td>\n",
       "      <td>...</td>\n",
       "      <td>...</td>\n",
       "      <td>...</td>\n",
       "      <td>...</td>\n",
       "    </tr>\n",
       "    <tr>\n",
       "      <th>540</th>\n",
       "      <td>1820000.0</td>\n",
       "      <td>3000.0</td>\n",
       "      <td>2.0</td>\n",
       "      <td>1.0</td>\n",
       "      <td>1.0</td>\n",
       "      <td>yes</td>\n",
       "      <td>no</td>\n",
       "      <td>yes</td>\n",
       "      <td>no</td>\n",
       "      <td>no</td>\n",
       "      <td>2.0</td>\n",
       "      <td>no</td>\n",
       "      <td>unfurnished</td>\n",
       "    </tr>\n",
       "    <tr>\n",
       "      <th>541</th>\n",
       "      <td>1767150.0</td>\n",
       "      <td>2400.0</td>\n",
       "      <td>3.0</td>\n",
       "      <td>1.0</td>\n",
       "      <td>1.0</td>\n",
       "      <td>no</td>\n",
       "      <td>no</td>\n",
       "      <td>no</td>\n",
       "      <td>no</td>\n",
       "      <td>no</td>\n",
       "      <td>0.0</td>\n",
       "      <td>no</td>\n",
       "      <td>semi-furnished</td>\n",
       "    </tr>\n",
       "    <tr>\n",
       "      <th>542</th>\n",
       "      <td>1750000.0</td>\n",
       "      <td>3620.0</td>\n",
       "      <td>2.0</td>\n",
       "      <td>1.0</td>\n",
       "      <td>1.0</td>\n",
       "      <td>yes</td>\n",
       "      <td>no</td>\n",
       "      <td>no</td>\n",
       "      <td>no</td>\n",
       "      <td>no</td>\n",
       "      <td>0.0</td>\n",
       "      <td>no</td>\n",
       "      <td>unfurnished</td>\n",
       "    </tr>\n",
       "    <tr>\n",
       "      <th>543</th>\n",
       "      <td>1750000.0</td>\n",
       "      <td>2910.0</td>\n",
       "      <td>3.0</td>\n",
       "      <td>1.0</td>\n",
       "      <td>1.0</td>\n",
       "      <td>no</td>\n",
       "      <td>no</td>\n",
       "      <td>no</td>\n",
       "      <td>no</td>\n",
       "      <td>no</td>\n",
       "      <td>0.0</td>\n",
       "      <td>no</td>\n",
       "      <td>furnished</td>\n",
       "    </tr>\n",
       "    <tr>\n",
       "      <th>544</th>\n",
       "      <td>1750000.0</td>\n",
       "      <td>3850.0</td>\n",
       "      <td>3.0</td>\n",
       "      <td>1.0</td>\n",
       "      <td>2.0</td>\n",
       "      <td>yes</td>\n",
       "      <td>no</td>\n",
       "      <td>no</td>\n",
       "      <td>no</td>\n",
       "      <td>no</td>\n",
       "      <td>0.0</td>\n",
       "      <td>no</td>\n",
       "      <td>unfurnished</td>\n",
       "    </tr>\n",
       "  </tbody>\n",
       "</table>\n",
       "<p>545 rows × 13 columns</p>\n",
       "</div>"
      ],
      "text/plain": [
       "          price    area  bedrooms  bathrooms  stories mainroad guestroom  \\\n",
       "0    13300000.0  7420.0       4.0        2.0      3.0      yes        no   \n",
       "1    12250000.0  8960.0       4.0        4.0      4.0      yes        no   \n",
       "2    12250000.0  9960.0       3.0        2.0      2.0      yes        no   \n",
       "3    12215000.0  7500.0       4.0        2.0      2.0      yes        no   \n",
       "4    11410000.0  7420.0       4.0        1.0      2.0      yes       yes   \n",
       "..          ...     ...       ...        ...      ...      ...       ...   \n",
       "540   1820000.0  3000.0       2.0        1.0      1.0      yes        no   \n",
       "541   1767150.0  2400.0       3.0        1.0      1.0       no        no   \n",
       "542   1750000.0  3620.0       2.0        1.0      1.0      yes        no   \n",
       "543   1750000.0  2910.0       3.0        1.0      1.0       no        no   \n",
       "544   1750000.0  3850.0       3.0        1.0      2.0      yes        no   \n",
       "\n",
       "    basement hotwaterheating airconditioning  parking prefarea  \\\n",
       "0         no              no             yes      2.0      yes   \n",
       "1         no              no             yes      3.0       no   \n",
       "2        yes              no              no      2.0      yes   \n",
       "3        yes              no             yes      3.0      yes   \n",
       "4        yes              no             yes      2.0       no   \n",
       "..       ...             ...             ...      ...      ...   \n",
       "540      yes              no              no      2.0       no   \n",
       "541       no              no              no      0.0       no   \n",
       "542       no              no              no      0.0       no   \n",
       "543       no              no              no      0.0       no   \n",
       "544       no              no              no      0.0       no   \n",
       "\n",
       "    furnishingstatus  \n",
       "0          furnished  \n",
       "1          furnished  \n",
       "2     semi-furnished  \n",
       "3          furnished  \n",
       "4          furnished  \n",
       "..               ...  \n",
       "540      unfurnished  \n",
       "541   semi-furnished  \n",
       "542      unfurnished  \n",
       "543        furnished  \n",
       "544      unfurnished  \n",
       "\n",
       "[545 rows x 13 columns]"
      ]
     },
     "execution_count": 4,
     "metadata": {},
     "output_type": "execute_result"
    }
   ],
   "source": [
    "import pandas as pd\n",
    "import seaborn as sns\n",
    "df=pd.read_excel(r\"C:\\Users\\Admin\\Downloads\\Regression_Data_set_Batch1.csv.xlsx\")\n",
    "df"
   ]
  },
  {
   "cell_type": "code",
   "execution_count": 5,
   "id": "0d7dfa18",
   "metadata": {},
   "outputs": [
    {
     "data": {
      "text/html": [
       "<div>\n",
       "<style scoped>\n",
       "    .dataframe tbody tr th:only-of-type {\n",
       "        vertical-align: middle;\n",
       "    }\n",
       "\n",
       "    .dataframe tbody tr th {\n",
       "        vertical-align: top;\n",
       "    }\n",
       "\n",
       "    .dataframe thead th {\n",
       "        text-align: right;\n",
       "    }\n",
       "</style>\n",
       "<table border=\"1\" class=\"dataframe\">\n",
       "  <thead>\n",
       "    <tr style=\"text-align: right;\">\n",
       "      <th></th>\n",
       "      <th>price</th>\n",
       "      <th>area</th>\n",
       "      <th>bedrooms</th>\n",
       "      <th>bathrooms</th>\n",
       "      <th>stories</th>\n",
       "      <th>mainroad</th>\n",
       "      <th>guestroom</th>\n",
       "      <th>basement</th>\n",
       "      <th>hotwaterheating</th>\n",
       "      <th>airconditioning</th>\n",
       "      <th>parking</th>\n",
       "      <th>prefarea</th>\n",
       "      <th>furnishingstatus</th>\n",
       "    </tr>\n",
       "  </thead>\n",
       "  <tbody>\n",
       "    <tr>\n",
       "      <th>0</th>\n",
       "      <td>False</td>\n",
       "      <td>False</td>\n",
       "      <td>False</td>\n",
       "      <td>False</td>\n",
       "      <td>False</td>\n",
       "      <td>False</td>\n",
       "      <td>False</td>\n",
       "      <td>False</td>\n",
       "      <td>False</td>\n",
       "      <td>False</td>\n",
       "      <td>False</td>\n",
       "      <td>False</td>\n",
       "      <td>False</td>\n",
       "    </tr>\n",
       "    <tr>\n",
       "      <th>1</th>\n",
       "      <td>False</td>\n",
       "      <td>False</td>\n",
       "      <td>False</td>\n",
       "      <td>False</td>\n",
       "      <td>False</td>\n",
       "      <td>False</td>\n",
       "      <td>False</td>\n",
       "      <td>False</td>\n",
       "      <td>False</td>\n",
       "      <td>False</td>\n",
       "      <td>False</td>\n",
       "      <td>False</td>\n",
       "      <td>False</td>\n",
       "    </tr>\n",
       "    <tr>\n",
       "      <th>2</th>\n",
       "      <td>False</td>\n",
       "      <td>False</td>\n",
       "      <td>False</td>\n",
       "      <td>False</td>\n",
       "      <td>False</td>\n",
       "      <td>False</td>\n",
       "      <td>False</td>\n",
       "      <td>False</td>\n",
       "      <td>False</td>\n",
       "      <td>False</td>\n",
       "      <td>False</td>\n",
       "      <td>False</td>\n",
       "      <td>False</td>\n",
       "    </tr>\n",
       "    <tr>\n",
       "      <th>3</th>\n",
       "      <td>False</td>\n",
       "      <td>False</td>\n",
       "      <td>False</td>\n",
       "      <td>False</td>\n",
       "      <td>False</td>\n",
       "      <td>False</td>\n",
       "      <td>False</td>\n",
       "      <td>False</td>\n",
       "      <td>False</td>\n",
       "      <td>False</td>\n",
       "      <td>False</td>\n",
       "      <td>False</td>\n",
       "      <td>False</td>\n",
       "    </tr>\n",
       "    <tr>\n",
       "      <th>4</th>\n",
       "      <td>False</td>\n",
       "      <td>False</td>\n",
       "      <td>False</td>\n",
       "      <td>False</td>\n",
       "      <td>False</td>\n",
       "      <td>False</td>\n",
       "      <td>False</td>\n",
       "      <td>False</td>\n",
       "      <td>False</td>\n",
       "      <td>False</td>\n",
       "      <td>False</td>\n",
       "      <td>False</td>\n",
       "      <td>False</td>\n",
       "    </tr>\n",
       "    <tr>\n",
       "      <th>...</th>\n",
       "      <td>...</td>\n",
       "      <td>...</td>\n",
       "      <td>...</td>\n",
       "      <td>...</td>\n",
       "      <td>...</td>\n",
       "      <td>...</td>\n",
       "      <td>...</td>\n",
       "      <td>...</td>\n",
       "      <td>...</td>\n",
       "      <td>...</td>\n",
       "      <td>...</td>\n",
       "      <td>...</td>\n",
       "      <td>...</td>\n",
       "    </tr>\n",
       "    <tr>\n",
       "      <th>540</th>\n",
       "      <td>False</td>\n",
       "      <td>False</td>\n",
       "      <td>False</td>\n",
       "      <td>False</td>\n",
       "      <td>False</td>\n",
       "      <td>False</td>\n",
       "      <td>False</td>\n",
       "      <td>False</td>\n",
       "      <td>False</td>\n",
       "      <td>False</td>\n",
       "      <td>False</td>\n",
       "      <td>False</td>\n",
       "      <td>False</td>\n",
       "    </tr>\n",
       "    <tr>\n",
       "      <th>541</th>\n",
       "      <td>False</td>\n",
       "      <td>False</td>\n",
       "      <td>False</td>\n",
       "      <td>False</td>\n",
       "      <td>False</td>\n",
       "      <td>False</td>\n",
       "      <td>False</td>\n",
       "      <td>False</td>\n",
       "      <td>False</td>\n",
       "      <td>False</td>\n",
       "      <td>False</td>\n",
       "      <td>False</td>\n",
       "      <td>False</td>\n",
       "    </tr>\n",
       "    <tr>\n",
       "      <th>542</th>\n",
       "      <td>False</td>\n",
       "      <td>False</td>\n",
       "      <td>False</td>\n",
       "      <td>False</td>\n",
       "      <td>False</td>\n",
       "      <td>False</td>\n",
       "      <td>False</td>\n",
       "      <td>False</td>\n",
       "      <td>False</td>\n",
       "      <td>False</td>\n",
       "      <td>False</td>\n",
       "      <td>False</td>\n",
       "      <td>False</td>\n",
       "    </tr>\n",
       "    <tr>\n",
       "      <th>543</th>\n",
       "      <td>False</td>\n",
       "      <td>False</td>\n",
       "      <td>False</td>\n",
       "      <td>False</td>\n",
       "      <td>False</td>\n",
       "      <td>False</td>\n",
       "      <td>False</td>\n",
       "      <td>False</td>\n",
       "      <td>False</td>\n",
       "      <td>False</td>\n",
       "      <td>False</td>\n",
       "      <td>False</td>\n",
       "      <td>False</td>\n",
       "    </tr>\n",
       "    <tr>\n",
       "      <th>544</th>\n",
       "      <td>False</td>\n",
       "      <td>False</td>\n",
       "      <td>False</td>\n",
       "      <td>False</td>\n",
       "      <td>False</td>\n",
       "      <td>False</td>\n",
       "      <td>False</td>\n",
       "      <td>False</td>\n",
       "      <td>False</td>\n",
       "      <td>False</td>\n",
       "      <td>False</td>\n",
       "      <td>False</td>\n",
       "      <td>False</td>\n",
       "    </tr>\n",
       "  </tbody>\n",
       "</table>\n",
       "<p>545 rows × 13 columns</p>\n",
       "</div>"
      ],
      "text/plain": [
       "     price   area  bedrooms  bathrooms  stories  mainroad  guestroom  \\\n",
       "0    False  False     False      False    False     False      False   \n",
       "1    False  False     False      False    False     False      False   \n",
       "2    False  False     False      False    False     False      False   \n",
       "3    False  False     False      False    False     False      False   \n",
       "4    False  False     False      False    False     False      False   \n",
       "..     ...    ...       ...        ...      ...       ...        ...   \n",
       "540  False  False     False      False    False     False      False   \n",
       "541  False  False     False      False    False     False      False   \n",
       "542  False  False     False      False    False     False      False   \n",
       "543  False  False     False      False    False     False      False   \n",
       "544  False  False     False      False    False     False      False   \n",
       "\n",
       "     basement  hotwaterheating  airconditioning  parking  prefarea  \\\n",
       "0       False            False            False    False     False   \n",
       "1       False            False            False    False     False   \n",
       "2       False            False            False    False     False   \n",
       "3       False            False            False    False     False   \n",
       "4       False            False            False    False     False   \n",
       "..        ...              ...              ...      ...       ...   \n",
       "540     False            False            False    False     False   \n",
       "541     False            False            False    False     False   \n",
       "542     False            False            False    False     False   \n",
       "543     False            False            False    False     False   \n",
       "544     False            False            False    False     False   \n",
       "\n",
       "     furnishingstatus  \n",
       "0               False  \n",
       "1               False  \n",
       "2               False  \n",
       "3               False  \n",
       "4               False  \n",
       "..                ...  \n",
       "540             False  \n",
       "541             False  \n",
       "542             False  \n",
       "543             False  \n",
       "544             False  \n",
       "\n",
       "[545 rows x 13 columns]"
      ]
     },
     "execution_count": 5,
     "metadata": {},
     "output_type": "execute_result"
    }
   ],
   "source": [
    "df.isnull()"
   ]
  },
  {
   "cell_type": "code",
   "execution_count": 7,
   "id": "a9ce1429",
   "metadata": {},
   "outputs": [
    {
     "data": {
      "image/png": "[encoded data removed]",
      "text/plain": [
       "<Figure size 432x288 with 1 Axes>"
      ]
     },
     "metadata": {
      "needs_background": "light"
     },
     "output_type": "display_data"
    }
   ],
   "source": [
    "lplot=sns.lineplot(x=\"area\",y=\"price\",data=df)"
   ]
  },
  {
   "cell_type": "code",
   "execution_count": 8,
   "id": "c3ef6ff3",
   "metadata": {},
   "outputs": [
    {
     "data": {
      "image/png": "[encoded data removed]",
      "text/plain": [
       "<Figure size 432x288 with 1 Axes>"
      ]
     },
     "metadata": {
      "needs_background": "light"
     },
     "output_type": "display_data"
    }
   ],
   "source": [
    "lplot=sns.lineplot(x=\"bedrooms\",y=\"price\",data=df)"
   ]
  },
  {
   "cell_type": "code",
   "execution_count": 9,
   "id": "6684cd2f",
   "metadata": {},
   "outputs": [
    {
     "data": {
      "image/png": "[encoded data removed]",
      "text/plain": [
       "<Figure size 360x360 with 1 Axes>"
      ]
     },
     "metadata": {
      "needs_background": "light"
     },
     "output_type": "display_data"
    }
   ],
   "source": [
    "rplot=sns.relplot(x=\"stories\",y=\"price\",data=df)"
   ]
  },
  {
   "cell_type": "code",
   "execution_count": 10,
   "id": "b085867b",
   "metadata": {},
   "outputs": [
    {
     "data": {
      "image/png": "[encoded data removed]",
      "text/plain": [
       "<Figure size 432x288 with 1 Axes>"
      ]
     },
     "metadata": {
      "needs_background": "light"
     },
     "output_type": "display_data"
    }
   ],
   "source": [
    "splot=sns.scatterplot(x=\"bedrooms\",y=\"bathrooms\",data=df)"
   ]
  },
  {
   "cell_type": "code",
   "execution_count": 11,
   "id": "ddbfe96f",
   "metadata": {},
   "outputs": [
    {
     "data": {
      "image/png": "[encoded data removed]",
      "text/plain": [
       "<Figure size 432x288 with 1 Axes>"
      ]
     },
     "metadata": {
      "needs_background": "light"
     },
     "output_type": "display_data"
    }
   ],
   "source": [
    "bplot=sns.barplot(x=\"stories\",y=\"price\",data=df)"
   ]
  },
  {
   "cell_type": "code",
   "execution_count": 12,
   "id": "f8f1f93f",
   "metadata": {},
   "outputs": [
    {
     "data": {
      "text/plain": [
       "413    2.0\n",
       "397    1.0\n",
       "177    1.0\n",
       "209    1.0\n",
       "51     1.0\n",
       "      ... \n",
       "309    1.0\n",
       "479    1.0\n",
       "86     1.0\n",
       "181    1.0\n",
       "66     1.0\n",
       "Name: bathrooms, Length: 408, dtype: float64"
      ]
     },
     "execution_count": 12,
     "metadata": {},
     "output_type": "execute_result"
    }
   ],
   "source": [
    "from sklearn.model_selection import train_test_split\n",
    "x=df.iloc[:,3]\n",
    "y=df.iloc[:,0]\n",
    "x_train,x_test,y_train,y_test=train_test_split(x,y,train_size=0.75)\n",
    "x_train"
   ]
  },
  {
   "cell_type": "code",
   "execution_count": 13,
   "id": "3f28bdb7",
   "metadata": {},
   "outputs": [
    {
     "data": {
      "text/plain": [
       "413    3430000.0\n",
       "397    3500000.0\n",
       "177    5243000.0\n",
       "209    4900000.0\n",
       "51     7420000.0\n",
       "         ...    \n",
       "309    4130000.0\n",
       "479    2940000.0\n",
       "86     6510000.0\n",
       "181    5215000.0\n",
       "66     6930000.0\n",
       "Name: price, Length: 408, dtype: float64"
      ]
     },
     "execution_count": 13,
     "metadata": {},
     "output_type": "execute_result"
    }
   ],
   "source": [
    "y_train"
   ]
  },
  {
   "cell_type": "code",
   "execution_count": 14,
   "id": "d83a5e98",
   "metadata": {},
   "outputs": [
    {
     "data": {
      "text/plain": [
       "288    1.0\n",
       "138    1.0\n",
       "56     1.0\n",
       "76     2.0\n",
       "164    2.0\n",
       "      ... \n",
       "403    1.0\n",
       "162    2.0\n",
       "188    1.0\n",
       "337    2.0\n",
       "150    1.0\n",
       "Name: bathrooms, Length: 137, dtype: float64"
      ]
     },
     "execution_count": 14,
     "metadata": {},
     "output_type": "execute_result"
    }
   ],
   "source": [
    "x_test"
   ]
  },
  {
   "cell_type": "code",
   "execution_count": 15,
   "id": "a850ed33",
   "metadata": {},
   "outputs": [
    {
     "data": {
      "text/plain": [
       "288    4200000.0\n",
       "138    5740000.0\n",
       "56     7343000.0\n",
       "76     6650000.0\n",
       "164    5390000.0\n",
       "         ...    \n",
       "403    3500000.0\n",
       "162    5460000.0\n",
       "188    5075000.0\n",
       "337    3920000.0\n",
       "150    5600000.0\n",
       "Name: price, Length: 137, dtype: float64"
      ]
     },
     "execution_count": 15,
     "metadata": {},
     "output_type": "execute_result"
    }
   ],
   "source": [
    "y_test"
   ]
  },
  {
   "cell_type": "code",
   "execution_count": 16,
   "id": "abb5415d",
   "metadata": {},
   "outputs": [
    {
     "data": {
      "text/plain": [
       "array([1., 1., 1., 1., 1., 1., 1., 2., 1., 1., 2., 1., 2., 2., 1., 1., 1.,\n",
       "       1., 1., 1., 1., 1., 1., 1., 1., 1., 2., 3., 2., 1., 2., 1., 1., 1.,\n",
       "       1., 1., 1., 1., 2., 1., 1., 1., 1., 1., 2., 1., 1., 2., 2., 1., 3.,\n",
       "       1., 2., 1., 1., 1., 1., 1., 1., 1., 1., 2., 1., 1., 1., 1., 1., 1.,\n",
       "       1., 2., 1., 1., 1., 2., 1., 2., 1., 1., 1., 1., 2., 1., 1., 2., 1.,\n",
       "       1., 1., 1., 1., 2., 1., 1., 1., 1., 1., 1., 1., 1., 1., 1., 1., 1.,\n",
       "       1., 1., 1., 1., 1., 1., 1., 1., 2., 1., 1., 1., 1., 1., 1., 1., 1.,\n",
       "       1., 2., 1., 2., 1., 1., 1., 1., 2., 1., 1., 1., 1., 1., 2., 1., 1.,\n",
       "       1., 1., 1., 1., 1., 1., 1., 1., 1., 1., 1., 1., 1., 2., 1., 1., 1.,\n",
       "       2., 1., 1., 1., 1., 1., 1., 1., 2., 1., 1., 1., 2., 1., 2., 1., 1.,\n",
       "       1., 1., 2., 1., 1., 1., 2., 1., 1., 1., 1., 1., 2., 1., 1., 2., 2.,\n",
       "       1., 2., 1., 1., 1., 2., 1., 1., 2., 1., 1., 1., 1., 2., 1., 1., 2.,\n",
       "       2., 1., 1., 1., 1., 1., 1., 1., 2., 1., 2., 1., 1., 1., 1., 1., 1.,\n",
       "       1., 1., 1., 1., 1., 1., 1., 1., 1., 1., 1., 4., 1., 1., 2., 2., 1.,\n",
       "       1., 2., 2., 2., 2., 1., 1., 1., 2., 1., 1., 2., 3., 1., 2., 1., 1.,\n",
       "       2., 1., 1., 1., 1., 1., 2., 1., 1., 1., 1., 2., 1., 1., 1., 1., 1.,\n",
       "       1., 2., 2., 2., 1., 1., 1., 2., 1., 1., 2., 1., 2., 1., 1., 1., 2.,\n",
       "       1., 1., 1., 1., 1., 2., 1., 1., 1., 1., 1., 1., 2., 2., 1., 1., 3.,\n",
       "       1., 2., 1., 1., 1., 1., 1., 1., 1., 1., 1., 1., 1., 1., 2., 2., 1.,\n",
       "       2., 1., 1., 1., 1., 1., 1., 1., 1., 2., 2., 1., 1., 3., 1., 1., 2.,\n",
       "       1., 2., 1., 2., 1., 2., 1., 1., 2., 1., 1., 1., 2., 1., 1., 1., 2.,\n",
       "       1., 1., 1., 1., 1., 1., 1., 2., 1., 1., 1., 1., 2., 1., 1., 1., 1.,\n",
       "       1., 1., 2., 1., 2., 1., 1., 1., 2., 2., 1., 1., 1., 2., 1., 1., 1.,\n",
       "       1., 1., 2., 1., 1., 1., 1., 1., 2., 1., 1., 1., 1., 1., 1., 1., 2.])"
      ]
     },
     "execution_count": 16,
     "metadata": {},
     "output_type": "execute_result"
    }
   ],
   "source": [
    "x=df.iloc[:,3].values\n",
    "y=df.iloc[:,0].values\n",
    "x_train,x_test,y_train,y_test=train_test_split(x,y,train_size=0.75)\n",
    "x_train"
   ]
  },
  {
   "cell_type": "code",
   "execution_count": 17,
   "id": "373ce858",
   "metadata": {},
   "outputs": [
    {
     "data": {
      "text/html": [
       "<style>#sk-container-id-1 {color: black;background-color: white;}#sk-container-id-1 pre{padding: 0;}#sk-container-id-1 div.sk-toggleable {background-color: white;}#sk-container-id-1 label.sk-toggleable__label {cursor: pointer;display: block;width: 100%;margin-bottom: 0;padding: 0.3em;box-sizing: border-box;text-align: center;}#sk-container-id-1 label.sk-toggleable__label-arrow:before {content: \"▸\";float: left;margin-right: 0.25em;color: #696969;}#sk-container-id-1 label.sk-toggleable__label-arrow:hover:before {color: black;}#sk-container-id-1 div.sk-estimator:hover label.sk-toggleable__label-arrow:before {color: black;}#sk-container-id-1 div.sk-toggleable__content {max-height: 0;max-width: 0;overflow: hidden;text-align: left;background-color: #f0f8ff;}#sk-container-id-1 div.sk-toggleable__content pre {margin: 0.2em;color: black;border-radius: 0.25em;background-color: #f0f8ff;}#sk-container-id-1 input.sk-toggleable__control:checked~div.sk-toggleable__content {max-height: 200px;max-width: 100%;overflow: auto;}#sk-container-id-1 input.sk-toggleable__control:checked~label.sk-toggleable__label-arrow:before {content: \"▾\";}#sk-container-id-1 div.sk-estimator input.sk-toggleable__control:checked~label.sk-toggleable__label {background-color: #d4ebff;}#sk-container-id-1 div.sk-label input.sk-toggleable__control:checked~label.sk-toggleable__label {background-color: #d4ebff;}#sk-container-id-1 input.sk-hidden--visually {border: 0;clip: rect(1px 1px 1px 1px);clip: rect(1px, 1px, 1px, 1px);height: 1px;margin: -1px;overflow: hidden;padding: 0;position: absolute;width: 1px;}#sk-container-id-1 div.sk-estimator {font-family: monospace;background-color: #f0f8ff;border: 1px dotted black;border-radius: 0.25em;box-sizing: border-box;margin-bottom: 0.5em;}#sk-container-id-1 div.sk-estimator:hover {background-color: #d4ebff;}#sk-container-id-1 div.sk-parallel-item::after {content: \"\";width: 100%;border-bottom: 1px solid gray;flex-grow: 1;}#sk-container-id-1 div.sk-label:hover label.sk-toggleable__label {background-color: #d4ebff;}#sk-container-id-1 div.sk-serial::before {content: \"\";position: absolute;border-left: 1px solid gray;box-sizing: border-box;top: 0;bottom: 0;left: 50%;z-index: 0;}#sk-container-id-1 div.sk-serial {display: flex;flex-direction: column;align-items: center;background-color: white;padding-right: 0.2em;padding-left: 0.2em;position: relative;}#sk-container-id-1 div.sk-item {position: relative;z-index: 1;}#sk-container-id-1 div.sk-parallel {display: flex;align-items: stretch;justify-content: center;background-color: white;position: relative;}#sk-container-id-1 div.sk-item::before, #sk-container-id-1 div.sk-parallel-item::before {content: \"\";position: absolute;border-left: 1px solid gray;box-sizing: border-box;top: 0;bottom: 0;left: 50%;z-index: -1;}#sk-container-id-1 div.sk-parallel-item {display: flex;flex-direction: column;z-index: 1;position: relative;background-color: white;}#sk-container-id-1 div.sk-parallel-item:first-child::after {align-self: flex-end;width: 50%;}#sk-container-id-1 div.sk-parallel-item:last-child::after {align-self: flex-start;width: 50%;}#sk-container-id-1 div.sk-parallel-item:only-child::after {width: 0;}#sk-container-id-1 div.sk-dashed-wrapped {border: 1px dashed gray;margin: 0 0.4em 0.5em 0.4em;box-sizing: border-box;padding-bottom: 0.4em;background-color: white;}#sk-container-id-1 div.sk-label label {font-family: monospace;font-weight: bold;display: inline-block;line-height: 1.2em;}#sk-container-id-1 div.sk-label-container {text-align: center;}#sk-container-id-1 div.sk-container {/* jupyter's `normalize.less` sets `[hidden] { display: none; }` but bootstrap.min.css set `[hidden] { display: none !important; }` so we also need the `!important` here to be able to override the default hidden behavior on the sphinx rendered scikit-learn.org. See: https://github.com/scikit-learn/scikit-learn/issues/21755 */display: inline-block !important;position: relative;}#sk-container-id-1 div.sk-text-repr-fallback {display: none;}</style><div id=\"sk-container-id-1\" class=\"sk-top-container\"><div class=\"sk-text-repr-fallback\"><pre>LinearRegression()</pre><b>In a Jupyter environment, please rerun this cell to show the HTML representation or trust the notebook. <br />On GitHub, the HTML representation is unable to render, please try loading this page with nbviewer.org.</b></div><div class=\"sk-container\" hidden><div class=\"sk-item\"><div class=\"sk-estimator sk-toggleable\"><input class=\"sk-toggleable__control sk-hidden--visually\" id=\"sk-estimator-id-1\" type=\"checkbox\" checked><label for=\"sk-estimator-id-1\" class=\"sk-toggleable__label sk-toggleable__label-arrow\">LinearRegression</label><div class=\"sk-toggleable__content\"><pre>LinearRegression()</pre></div></div></div></div></div>"
      ],
      "text/plain": [
       "LinearRegression()"
      ]
     },
     "execution_count": 17,
     "metadata": {},
     "output_type": "execute_result"
    }
   ],
   "source": [
    "from sklearn import linear_model\n",
    "reg=linear_model.LinearRegression()\n",
    "reg.fit(x_train.reshape(-1,1),y_train.reshape(-1,1))"
   ]
  },
  {
   "cell_type": "code",
   "execution_count": 18,
   "id": "35232cbf",
   "metadata": {},
   "outputs": [
    {
     "data": {
      "text/plain": [
       "array([[ 4198988.57801114],\n",
       "       [ 4198988.57801114],\n",
       "       [ 4198988.57801114],\n",
       "       [ 4198988.57801114],\n",
       "       [ 4198988.57801114],\n",
       "       [ 4198988.57801114],\n",
       "       [ 4198988.57801114],\n",
       "       [ 6326528.07972568],\n",
       "       [ 4198988.57801114],\n",
       "       [ 4198988.57801114],\n",
       "       [ 6326528.07972568],\n",
       "       [ 4198988.57801114],\n",
       "       [ 6326528.07972568],\n",
       "       [ 6326528.07972568],\n",
       "       [ 4198988.57801114],\n",
       "       [ 4198988.57801114],\n",
       "       [ 4198988.57801114],\n",
       "       [ 4198988.57801114],\n",
       "       [ 4198988.57801114],\n",
       "       [ 4198988.57801114],\n",
       "       [ 4198988.57801114],\n",
       "       [ 4198988.57801114],\n",
       "       [ 4198988.57801114],\n",
       "       [ 4198988.57801114],\n",
       "       [ 4198988.57801114],\n",
       "       [ 4198988.57801114],\n",
       "       [ 6326528.07972568],\n",
       "       [ 8454067.58144021],\n",
       "       [ 6326528.07972568],\n",
       "       [ 4198988.57801114],\n",
       "       [ 6326528.07972568],\n",
       "       [ 4198988.57801114],\n",
       "       [ 4198988.57801114],\n",
       "       [ 4198988.57801114],\n",
       "       [ 4198988.57801114],\n",
       "       [ 4198988.57801114],\n",
       "       [ 4198988.57801114],\n",
       "       [ 4198988.57801114],\n",
       "       [ 6326528.07972568],\n",
       "       [ 4198988.57801114],\n",
       "       [ 4198988.57801114],\n",
       "       [ 4198988.57801114],\n",
       "       [ 4198988.57801114],\n",
       "       [ 4198988.57801114],\n",
       "       [ 6326528.07972568],\n",
       "       [ 4198988.57801114],\n",
       "       [ 4198988.57801114],\n",
       "       [ 6326528.07972568],\n",
       "       [ 6326528.07972568],\n",
       "       [ 4198988.57801114],\n",
       "       [ 8454067.58144021],\n",
       "       [ 4198988.57801114],\n",
       "       [ 6326528.07972568],\n",
       "       [ 4198988.57801114],\n",
       "       [ 4198988.57801114],\n",
       "       [ 4198988.57801114],\n",
       "       [ 4198988.57801114],\n",
       "       [ 4198988.57801114],\n",
       "       [ 4198988.57801114],\n",
       "       [ 4198988.57801114],\n",
       "       [ 4198988.57801114],\n",
       "       [ 6326528.07972568],\n",
       "       [ 4198988.57801114],\n",
       "       [ 4198988.57801114],\n",
       "       [ 4198988.57801114],\n",
       "       [ 4198988.57801114],\n",
       "       [ 4198988.57801114],\n",
       "       [ 4198988.57801114],\n",
       "       [ 4198988.57801114],\n",
       "       [ 6326528.07972568],\n",
       "       [ 4198988.57801114],\n",
       "       [ 4198988.57801114],\n",
       "       [ 4198988.57801114],\n",
       "       [ 6326528.07972568],\n",
       "       [ 4198988.57801114],\n",
       "       [ 6326528.07972568],\n",
       "       [ 4198988.57801114],\n",
       "       [ 4198988.57801114],\n",
       "       [ 4198988.57801114],\n",
       "       [ 4198988.57801114],\n",
       "       [ 6326528.07972568],\n",
       "       [ 4198988.57801114],\n",
       "       [ 4198988.57801114],\n",
       "       [ 6326528.07972568],\n",
       "       [ 4198988.57801114],\n",
       "       [ 4198988.57801114],\n",
       "       [ 4198988.57801114],\n",
       "       [ 4198988.57801114],\n",
       "       [ 4198988.57801114],\n",
       "       [ 6326528.07972568],\n",
       "       [ 4198988.57801114],\n",
       "       [ 4198988.57801114],\n",
       "       [ 4198988.57801114],\n",
       "       [ 4198988.57801114],\n",
       "       [ 4198988.57801114],\n",
       "       [ 4198988.57801114],\n",
       "       [ 4198988.57801114],\n",
       "       [ 4198988.57801114],\n",
       "       [ 4198988.57801114],\n",
       "       [ 4198988.57801114],\n",
       "       [ 4198988.57801114],\n",
       "       [ 4198988.57801114],\n",
       "       [ 4198988.57801114],\n",
       "       [ 4198988.57801114],\n",
       "       [ 4198988.57801114],\n",
       "       [ 4198988.57801114],\n",
       "       [ 4198988.57801114],\n",
       "       [ 4198988.57801114],\n",
       "       [ 4198988.57801114],\n",
       "       [ 4198988.57801114],\n",
       "       [ 6326528.07972568],\n",
       "       [ 4198988.57801114],\n",
       "       [ 4198988.57801114],\n",
       "       [ 4198988.57801114],\n",
       "       [ 4198988.57801114],\n",
       "       [ 4198988.57801114],\n",
       "       [ 4198988.57801114],\n",
       "       [ 4198988.57801114],\n",
       "       [ 4198988.57801114],\n",
       "       [ 4198988.57801114],\n",
       "       [ 6326528.07972568],\n",
       "       [ 4198988.57801114],\n",
       "       [ 6326528.07972568],\n",
       "       [ 4198988.57801114],\n",
       "       [ 4198988.57801114],\n",
       "       [ 4198988.57801114],\n",
       "       [ 4198988.57801114],\n",
       "       [ 6326528.07972568],\n",
       "       [ 4198988.57801114],\n",
       "       [ 4198988.57801114],\n",
       "       [ 4198988.57801114],\n",
       "       [ 4198988.57801114],\n",
       "       [ 4198988.57801114],\n",
       "       [ 6326528.07972568],\n",
       "       [ 4198988.57801114],\n",
       "       [ 4198988.57801114],\n",
       "       [ 4198988.57801114],\n",
       "       [ 4198988.57801114],\n",
       "       [ 4198988.57801114],\n",
       "       [ 4198988.57801114],\n",
       "       [ 4198988.57801114],\n",
       "       [ 4198988.57801114],\n",
       "       [ 4198988.57801114],\n",
       "       [ 4198988.57801114],\n",
       "       [ 4198988.57801114],\n",
       "       [ 4198988.57801114],\n",
       "       [ 4198988.57801114],\n",
       "       [ 4198988.57801114],\n",
       "       [ 4198988.57801114],\n",
       "       [ 6326528.07972568],\n",
       "       [ 4198988.57801114],\n",
       "       [ 4198988.57801114],\n",
       "       [ 4198988.57801114],\n",
       "       [ 6326528.07972568],\n",
       "       [ 4198988.57801114],\n",
       "       [ 4198988.57801114],\n",
       "       [ 4198988.57801114],\n",
       "       [ 4198988.57801114],\n",
       "       [ 4198988.57801114],\n",
       "       [ 4198988.57801114],\n",
       "       [ 4198988.57801114],\n",
       "       [ 6326528.07972568],\n",
       "       [ 4198988.57801114],\n",
       "       [ 4198988.57801114],\n",
       "       [ 4198988.57801114],\n",
       "       [ 6326528.07972568],\n",
       "       [ 4198988.57801114],\n",
       "       [ 6326528.07972568],\n",
       "       [ 4198988.57801114],\n",
       "       [ 4198988.57801114],\n",
       "       [ 4198988.57801114],\n",
       "       [ 4198988.57801114],\n",
       "       [ 6326528.07972568],\n",
       "       [ 4198988.57801114],\n",
       "       [ 4198988.57801114],\n",
       "       [ 4198988.57801114],\n",
       "       [ 6326528.07972568],\n",
       "       [ 4198988.57801114],\n",
       "       [ 4198988.57801114],\n",
       "       [ 4198988.57801114],\n",
       "       [ 4198988.57801114],\n",
       "       [ 4198988.57801114],\n",
       "       [ 6326528.07972568],\n",
       "       [ 4198988.57801114],\n",
       "       [ 4198988.57801114],\n",
       "       [ 6326528.07972568],\n",
       "       [ 6326528.07972568],\n",
       "       [ 4198988.57801114],\n",
       "       [ 6326528.07972568],\n",
       "       [ 4198988.57801114],\n",
       "       [ 4198988.57801114],\n",
       "       [ 4198988.57801114],\n",
       "       [ 6326528.07972568],\n",
       "       [ 4198988.57801114],\n",
       "       [ 4198988.57801114],\n",
       "       [ 6326528.07972568],\n",
       "       [ 4198988.57801114],\n",
       "       [ 4198988.57801114],\n",
       "       [ 4198988.57801114],\n",
       "       [ 4198988.57801114],\n",
       "       [ 6326528.07972568],\n",
       "       [ 4198988.57801114],\n",
       "       [ 4198988.57801114],\n",
       "       [ 6326528.07972568],\n",
       "       [ 6326528.07972568],\n",
       "       [ 4198988.57801114],\n",
       "       [ 4198988.57801114],\n",
       "       [ 4198988.57801114],\n",
       "       [ 4198988.57801114],\n",
       "       [ 4198988.57801114],\n",
       "       [ 4198988.57801114],\n",
       "       [ 4198988.57801114],\n",
       "       [ 6326528.07972568],\n",
       "       [ 4198988.57801114],\n",
       "       [ 6326528.07972568],\n",
       "       [ 4198988.57801114],\n",
       "       [ 4198988.57801114],\n",
       "       [ 4198988.57801114],\n",
       "       [ 4198988.57801114],\n",
       "       [ 4198988.57801114],\n",
       "       [ 4198988.57801114],\n",
       "       [ 4198988.57801114],\n",
       "       [ 4198988.57801114],\n",
       "       [ 4198988.57801114],\n",
       "       [ 4198988.57801114],\n",
       "       [ 4198988.57801114],\n",
       "       [ 4198988.57801114],\n",
       "       [ 4198988.57801114],\n",
       "       [ 4198988.57801114],\n",
       "       [ 4198988.57801114],\n",
       "       [ 4198988.57801114],\n",
       "       [ 4198988.57801114],\n",
       "       [10581607.08315474],\n",
       "       [ 4198988.57801114],\n",
       "       [ 4198988.57801114],\n",
       "       [ 6326528.07972568],\n",
       "       [ 6326528.07972568],\n",
       "       [ 4198988.57801114],\n",
       "       [ 4198988.57801114],\n",
       "       [ 6326528.07972568],\n",
       "       [ 6326528.07972568],\n",
       "       [ 6326528.07972568],\n",
       "       [ 6326528.07972568],\n",
       "       [ 4198988.57801114],\n",
       "       [ 4198988.57801114],\n",
       "       [ 4198988.57801114],\n",
       "       [ 6326528.07972568],\n",
       "       [ 4198988.57801114],\n",
       "       [ 4198988.57801114],\n",
       "       [ 6326528.07972568],\n",
       "       [ 8454067.58144021],\n",
       "       [ 4198988.57801114],\n",
       "       [ 6326528.07972568],\n",
       "       [ 4198988.57801114],\n",
       "       [ 4198988.57801114],\n",
       "       [ 6326528.07972568],\n",
       "       [ 4198988.57801114],\n",
       "       [ 4198988.57801114],\n",
       "       [ 4198988.57801114],\n",
       "       [ 4198988.57801114],\n",
       "       [ 4198988.57801114],\n",
       "       [ 6326528.07972568],\n",
       "       [ 4198988.57801114],\n",
       "       [ 4198988.57801114],\n",
       "       [ 4198988.57801114],\n",
       "       [ 4198988.57801114],\n",
       "       [ 6326528.07972568],\n",
       "       [ 4198988.57801114],\n",
       "       [ 4198988.57801114],\n",
       "       [ 4198988.57801114],\n",
       "       [ 4198988.57801114],\n",
       "       [ 4198988.57801114],\n",
       "       [ 4198988.57801114],\n",
       "       [ 6326528.07972568],\n",
       "       [ 6326528.07972568],\n",
       "       [ 6326528.07972568],\n",
       "       [ 4198988.57801114],\n",
       "       [ 4198988.57801114],\n",
       "       [ 4198988.57801114],\n",
       "       [ 6326528.07972568],\n",
       "       [ 4198988.57801114],\n",
       "       [ 4198988.57801114],\n",
       "       [ 6326528.07972568],\n",
       "       [ 4198988.57801114],\n",
       "       [ 6326528.07972568],\n",
       "       [ 4198988.57801114],\n",
       "       [ 4198988.57801114],\n",
       "       [ 4198988.57801114],\n",
       "       [ 6326528.07972568],\n",
       "       [ 4198988.57801114],\n",
       "       [ 4198988.57801114],\n",
       "       [ 4198988.57801114],\n",
       "       [ 4198988.57801114],\n",
       "       [ 4198988.57801114],\n",
       "       [ 6326528.07972568],\n",
       "       [ 4198988.57801114],\n",
       "       [ 4198988.57801114],\n",
       "       [ 4198988.57801114],\n",
       "       [ 4198988.57801114],\n",
       "       [ 4198988.57801114],\n",
       "       [ 4198988.57801114],\n",
       "       [ 6326528.07972568],\n",
       "       [ 6326528.07972568],\n",
       "       [ 4198988.57801114],\n",
       "       [ 4198988.57801114],\n",
       "       [ 8454067.58144021],\n",
       "       [ 4198988.57801114],\n",
       "       [ 6326528.07972568],\n",
       "       [ 4198988.57801114],\n",
       "       [ 4198988.57801114],\n",
       "       [ 4198988.57801114],\n",
       "       [ 4198988.57801114],\n",
       "       [ 4198988.57801114],\n",
       "       [ 4198988.57801114],\n",
       "       [ 4198988.57801114],\n",
       "       [ 4198988.57801114],\n",
       "       [ 4198988.57801114],\n",
       "       [ 4198988.57801114],\n",
       "       [ 4198988.57801114],\n",
       "       [ 4198988.57801114],\n",
       "       [ 6326528.07972568],\n",
       "       [ 6326528.07972568],\n",
       "       [ 4198988.57801114],\n",
       "       [ 6326528.07972568],\n",
       "       [ 4198988.57801114],\n",
       "       [ 4198988.57801114],\n",
       "       [ 4198988.57801114],\n",
       "       [ 4198988.57801114],\n",
       "       [ 4198988.57801114],\n",
       "       [ 4198988.57801114],\n",
       "       [ 4198988.57801114],\n",
       "       [ 4198988.57801114],\n",
       "       [ 6326528.07972568],\n",
       "       [ 6326528.07972568],\n",
       "       [ 4198988.57801114],\n",
       "       [ 4198988.57801114],\n",
       "       [ 8454067.58144021],\n",
       "       [ 4198988.57801114],\n",
       "       [ 4198988.57801114],\n",
       "       [ 6326528.07972568],\n",
       "       [ 4198988.57801114],\n",
       "       [ 6326528.07972568],\n",
       "       [ 4198988.57801114],\n",
       "       [ 6326528.07972568],\n",
       "       [ 4198988.57801114],\n",
       "       [ 6326528.07972568],\n",
       "       [ 4198988.57801114],\n",
       "       [ 4198988.57801114],\n",
       "       [ 6326528.07972568],\n",
       "       [ 4198988.57801114],\n",
       "       [ 4198988.57801114],\n",
       "       [ 4198988.57801114],\n",
       "       [ 6326528.07972568],\n",
       "       [ 4198988.57801114],\n",
       "       [ 4198988.57801114],\n",
       "       [ 4198988.57801114],\n",
       "       [ 6326528.07972568],\n",
       "       [ 4198988.57801114],\n",
       "       [ 4198988.57801114],\n",
       "       [ 4198988.57801114],\n",
       "       [ 4198988.57801114],\n",
       "       [ 4198988.57801114],\n",
       "       [ 4198988.57801114],\n",
       "       [ 4198988.57801114],\n",
       "       [ 6326528.07972568],\n",
       "       [ 4198988.57801114],\n",
       "       [ 4198988.57801114],\n",
       "       [ 4198988.57801114],\n",
       "       [ 4198988.57801114],\n",
       "       [ 6326528.07972568],\n",
       "       [ 4198988.57801114],\n",
       "       [ 4198988.57801114],\n",
       "       [ 4198988.57801114],\n",
       "       [ 4198988.57801114],\n",
       "       [ 4198988.57801114],\n",
       "       [ 4198988.57801114],\n",
       "       [ 6326528.07972568],\n",
       "       [ 4198988.57801114],\n",
       "       [ 6326528.07972568],\n",
       "       [ 4198988.57801114],\n",
       "       [ 4198988.57801114],\n",
       "       [ 4198988.57801114],\n",
       "       [ 6326528.07972568],\n",
       "       [ 6326528.07972568],\n",
       "       [ 4198988.57801114],\n",
       "       [ 4198988.57801114],\n",
       "       [ 4198988.57801114],\n",
       "       [ 6326528.07972568],\n",
       "       [ 4198988.57801114],\n",
       "       [ 4198988.57801114],\n",
       "       [ 4198988.57801114],\n",
       "       [ 4198988.57801114],\n",
       "       [ 4198988.57801114],\n",
       "       [ 6326528.07972568],\n",
       "       [ 4198988.57801114],\n",
       "       [ 4198988.57801114],\n",
       "       [ 4198988.57801114],\n",
       "       [ 4198988.57801114],\n",
       "       [ 4198988.57801114],\n",
       "       [ 6326528.07972568],\n",
       "       [ 4198988.57801114],\n",
       "       [ 4198988.57801114],\n",
       "       [ 4198988.57801114],\n",
       "       [ 4198988.57801114],\n",
       "       [ 4198988.57801114],\n",
       "       [ 4198988.57801114],\n",
       "       [ 4198988.57801114],\n",
       "       [ 6326528.07972568]])"
      ]
     },
     "execution_count": 18,
     "metadata": {},
     "output_type": "execute_result"
    }
   ],
   "source": [
    "rpred_train=reg.predict(x_train.reshape(-1,1))\n",
    "rpred_train"
   ]
  },
  {
   "cell_type": "code",
   "execution_count": 19,
   "id": "8e78aba9",
   "metadata": {},
   "outputs": [
    {
     "data": {
      "text/plain": [
       "array([[6326528.07972568],\n",
       "       [4198988.57801114],\n",
       "       [6326528.07972568],\n",
       "       [4198988.57801114],\n",
       "       [4198988.57801114],\n",
       "       [8454067.58144021],\n",
       "       [6326528.07972568],\n",
       "       [4198988.57801114],\n",
       "       [4198988.57801114],\n",
       "       [8454067.58144021],\n",
       "       [4198988.57801114],\n",
       "       [6326528.07972568],\n",
       "       [4198988.57801114],\n",
       "       [6326528.07972568],\n",
       "       [4198988.57801114],\n",
       "       [8454067.58144021],\n",
       "       [4198988.57801114],\n",
       "       [4198988.57801114],\n",
       "       [4198988.57801114],\n",
       "       [4198988.57801114],\n",
       "       [4198988.57801114],\n",
       "       [4198988.57801114],\n",
       "       [4198988.57801114],\n",
       "       [4198988.57801114],\n",
       "       [6326528.07972568],\n",
       "       [4198988.57801114],\n",
       "       [4198988.57801114],\n",
       "       [8454067.58144021],\n",
       "       [6326528.07972568],\n",
       "       [4198988.57801114],\n",
       "       [4198988.57801114],\n",
       "       [4198988.57801114],\n",
       "       [6326528.07972568],\n",
       "       [4198988.57801114],\n",
       "       [4198988.57801114],\n",
       "       [6326528.07972568],\n",
       "       [4198988.57801114],\n",
       "       [4198988.57801114],\n",
       "       [4198988.57801114],\n",
       "       [6326528.07972568],\n",
       "       [6326528.07972568],\n",
       "       [4198988.57801114],\n",
       "       [6326528.07972568],\n",
       "       [4198988.57801114],\n",
       "       [6326528.07972568],\n",
       "       [6326528.07972568],\n",
       "       [4198988.57801114],\n",
       "       [4198988.57801114],\n",
       "       [6326528.07972568],\n",
       "       [4198988.57801114],\n",
       "       [4198988.57801114],\n",
       "       [4198988.57801114],\n",
       "       [4198988.57801114],\n",
       "       [4198988.57801114],\n",
       "       [6326528.07972568],\n",
       "       [4198988.57801114],\n",
       "       [6326528.07972568],\n",
       "       [4198988.57801114],\n",
       "       [6326528.07972568],\n",
       "       [4198988.57801114],\n",
       "       [4198988.57801114],\n",
       "       [4198988.57801114],\n",
       "       [6326528.07972568],\n",
       "       [4198988.57801114],\n",
       "       [6326528.07972568],\n",
       "       [4198988.57801114],\n",
       "       [4198988.57801114],\n",
       "       [6326528.07972568],\n",
       "       [6326528.07972568],\n",
       "       [4198988.57801114],\n",
       "       [4198988.57801114],\n",
       "       [4198988.57801114],\n",
       "       [4198988.57801114],\n",
       "       [4198988.57801114],\n",
       "       [6326528.07972568],\n",
       "       [4198988.57801114],\n",
       "       [6326528.07972568],\n",
       "       [4198988.57801114],\n",
       "       [6326528.07972568],\n",
       "       [4198988.57801114],\n",
       "       [6326528.07972568],\n",
       "       [4198988.57801114],\n",
       "       [4198988.57801114],\n",
       "       [4198988.57801114],\n",
       "       [6326528.07972568],\n",
       "       [4198988.57801114],\n",
       "       [4198988.57801114],\n",
       "       [4198988.57801114],\n",
       "       [4198988.57801114],\n",
       "       [4198988.57801114],\n",
       "       [4198988.57801114],\n",
       "       [4198988.57801114],\n",
       "       [4198988.57801114],\n",
       "       [4198988.57801114],\n",
       "       [6326528.07972568],\n",
       "       [4198988.57801114],\n",
       "       [4198988.57801114],\n",
       "       [4198988.57801114],\n",
       "       [4198988.57801114],\n",
       "       [4198988.57801114],\n",
       "       [4198988.57801114],\n",
       "       [6326528.07972568],\n",
       "       [8454067.58144021],\n",
       "       [6326528.07972568],\n",
       "       [6326528.07972568],\n",
       "       [4198988.57801114],\n",
       "       [6326528.07972568],\n",
       "       [4198988.57801114],\n",
       "       [6326528.07972568],\n",
       "       [6326528.07972568],\n",
       "       [4198988.57801114],\n",
       "       [4198988.57801114],\n",
       "       [6326528.07972568],\n",
       "       [4198988.57801114],\n",
       "       [4198988.57801114],\n",
       "       [4198988.57801114],\n",
       "       [4198988.57801114],\n",
       "       [4198988.57801114],\n",
       "       [6326528.07972568],\n",
       "       [6326528.07972568],\n",
       "       [4198988.57801114],\n",
       "       [6326528.07972568],\n",
       "       [6326528.07972568],\n",
       "       [6326528.07972568],\n",
       "       [6326528.07972568],\n",
       "       [4198988.57801114],\n",
       "       [6326528.07972568],\n",
       "       [6326528.07972568],\n",
       "       [4198988.57801114],\n",
       "       [4198988.57801114],\n",
       "       [4198988.57801114],\n",
       "       [6326528.07972568],\n",
       "       [4198988.57801114],\n",
       "       [4198988.57801114],\n",
       "       [6326528.07972568],\n",
       "       [4198988.57801114],\n",
       "       [6326528.07972568]])"
      ]
     },
     "execution_count": 19,
     "metadata": {},
     "output_type": "execute_result"
    }
   ],
   "source": [
    "rpred_test=reg.predict(x_test.reshape(-1,1))\n",
    "rpred_test"
   ]
  },
  {
   "cell_type": "code",
   "execution_count": 21,
   "id": "a1171120",
   "metadata": {},
   "outputs": [
    {
     "data": {
      "text/plain": [
       "1.0"
      ]
     },
     "execution_count": 21,
     "metadata": {},
     "output_type": "execute_result"
    }
   ],
   "source": [
    "reg.score(x_test.reshape(-1,1),rpred_test)"
   ]
  },
  {
   "cell_type": "code",
   "execution_count": 22,
   "id": "7ba065c5",
   "metadata": {},
   "outputs": [
    {
     "data": {
      "text/plain": [
       "1.0"
      ]
     },
     "execution_count": 22,
     "metadata": {},
     "output_type": "execute_result"
    }
   ],
   "source": [
    "reg.score(x_train.reshape(-1,1),rpred_train)"
   ]
  },
  {
   "cell_type": "code",
   "execution_count": 23,
   "id": "ca545153",
   "metadata": {},
   "outputs": [
    {
     "data": {
      "text/plain": [
       "<AxesSubplot:xlabel='bedrooms', ylabel='price'>"
      ]
     },
     "execution_count": 23,
     "metadata": {},
     "output_type": "execute_result"
    },
    {
     "data": {
      "image/png": "[encoded data removed]",
      "text/plain": [
       "<Figure size 432x288 with 1 Axes>"
      ]
     },
     "metadata": {
      "needs_background": "light"
     },
     "output_type": "display_data"
    }
   ],
   "source": [
    "sns.regplot(data=df,x=\"bedrooms\",y=\"price\")"
   ]
  },
  {
   "cell_type": "code",
   "execution_count": 24,
   "id": "dbcd1ed0",
   "metadata": {},
   "outputs": [
    {
     "data": {
      "text/plain": [
       "2528973204882.609"
      ]
     },
     "execution_count": 24,
     "metadata": {},
     "output_type": "execute_result"
    }
   ],
   "source": [
    "from sklearn.metrics import mean_squared_error\n",
    "mean_squared_error(y_train,rpred_train)"
   ]
  },
  {
   "cell_type": "code",
   "execution_count": 26,
   "id": "b092b64c",
   "metadata": {},
   "outputs": [
    {
     "data": {
      "text/plain": [
       "2686727259072.0933"
      ]
     },
     "execution_count": 26,
     "metadata": {},
     "output_type": "execute_result"
    }
   ],
   "source": [
    "mean_squared_error(y_test,rpred_test)"
   ]
  },
  {
   "cell_type": "code",
   "execution_count": 27,
   "id": "8df9ed65",
   "metadata": {},
   "outputs": [
    {
     "data": {
      "text/plain": [
       "1590274.5690234152"
      ]
     },
     "execution_count": 27,
     "metadata": {},
     "output_type": "execute_result"
    }
   ],
   "source": [
    "mean_squared_error(y_train,rpred_train,squared=False)"
   ]
  },
  {
   "cell_type": "code",
   "execution_count": 28,
   "id": "06351088",
   "metadata": {},
   "outputs": [
    {
     "data": {
      "text/plain": [
       "0.28640341637123634"
      ]
     },
     "execution_count": 28,
     "metadata": {},
     "output_type": "execute_result"
    }
   ],
   "source": [
    "from sklearn.metrics import r2_score\n",
    "r2_score(y_train,rpred_train)"
   ]
  },
  {
   "cell_type": "code",
   "execution_count": 29,
   "id": "80f35a0e",
   "metadata": {},
   "outputs": [],
   "source": [
    "x1=df.iloc[:,1:4].values\n",
    "y1=df.iloc[:,0].values"
   ]
  },
  {
   "cell_type": "code",
   "execution_count": 30,
   "id": "67b218f3",
   "metadata": {},
   "outputs": [
    {
     "data": {
      "text/plain": [
       "array([[6.000e+03, 4.000e+00, 2.000e+00],\n",
       "       [4.410e+03, 2.000e+00, 1.000e+00],\n",
       "       [3.510e+03, 3.000e+00, 1.000e+00],\n",
       "       ...,\n",
       "       [5.170e+03, 3.000e+00, 1.000e+00],\n",
       "       [2.800e+03, 3.000e+00, 2.000e+00],\n",
       "       [1.024e+04, 2.000e+00, 1.000e+00]])"
      ]
     },
     "execution_count": 30,
     "metadata": {},
     "output_type": "execute_result"
    }
   ],
   "source": [
    "x1_train,x1_test,y1_train,y1_test=train_test_split(x1,y1,train_size=0.75)\n",
    "x1_train"
   ]
  },
  {
   "cell_type": "code",
   "execution_count": 31,
   "id": "9a7627f8",
   "metadata": {},
   "outputs": [
    {
     "data": {
      "text/plain": [
       "array([ 6755000.,  4200000.,  4473000.,  7210000., 10150000.,  4753000.,\n",
       "        4060000.,  6300000.,  4277000.,  8400000.,  4893000.,  2660000.,\n",
       "        4165000.,  5033000.,  5383000.,  3850000.,  3500000.,  1890000.,\n",
       "        3010000.,  6405000.,  2450000.,  2800000.,  3423000.,  4200000.,\n",
       "        3703000.,  4900000.,  5495000.,  3234000.,  4473000.,  8190000.,\n",
       "        6860000.,  8645000.,  3885000.,  5110000.,  3360000.,  3570000.,\n",
       "        3430000.,  4690000.,  5740000.,  2940000.,  4515000.,  3465000.,\n",
       "        5110000., 13300000.,  4200000.,  5950000.,  5250000.,  2961000.,\n",
       "        2380000.,  3675000.,  4200000.,  2660000.,  6090000.,  3115000.,\n",
       "        3465000.,  6510000.,  4340000.,  4550000.,  4690000.,  4690000.,\n",
       "        3500000.,  3395000.,  7210000.,  2520000.,  3500000.,  3640000.,\n",
       "        2233000.,  6090000.,  4060000.,  7420000.,  4319000.,  5040000.,\n",
       "        2100000.,  4900000.,  8540000.,  3290000.,  6083000.,  2450000.,\n",
       "        4550000.,  3360000.,  4550000.,  3773000.,  4025000.,  3150000.,\n",
       "        6300000.,  2240000.,  3220000.,  4893000.,  2604000.,  3703000.,\n",
       "        5285000.,  6300000.,  3465000.,  3780000.,  6265000.,  4970000.,\n",
       "        3220000.,  4200000.,  3675000.,  9100000.,  2870000.,  3430000.,\n",
       "        7420000.,  5740000.,  5040000.,  8750000.,  4200000.,  4830000.,\n",
       "        2450000.,  3850000.,  4270000.,  3290000.,  4620000.,  2450000.,\n",
       "        8463000.,  3920000.,  4193000.,  3836000.,  5250000.,  3885000.,\n",
       "        5250000.,  1750000.,  6020000.,  5600000.,  6083000.,  6629000.,\n",
       "        4340000.,  3920000.,  4270000.,  4060000.,  3780000.,  5873000.,\n",
       "        5950000.,  3360000.,  2852500.,  3850000.,  5873000.,  6230000.,\n",
       "        9240000.,  5495000.,  5600000.,  5600000.,  2870000.,  6510000.,\n",
       "        2940000.,  2100000.,  3129000.,  4200000.,  9870000.,  3290000.,\n",
       "        3815000.,  7000000.,  3500000.,  5250000.,  4515000.,  3920000.,\n",
       "        4200000.,  4193000.,  4098500.,  4200000.,  5600000.,  4165000.,\n",
       "        5810000.,  7700000.,  8645000.,  5565000.,  3990000.,  5950000.,\n",
       "        3360000.,  6160000.,  3605000.,  3675000.,  5803000.,  2310000.,\n",
       "        4515000.,  9800000.,  3920000.,  2485000.,  2590000.,  7070000.,\n",
       "        5040000., 11410000.,  6895000.,  2835000.,  1820000.,  1890000.,\n",
       "        7140000.,  8960000.,  8400000.,  4830000.,  5740000.,  4480000.,\n",
       "       12215000.,  3640000.,  4767000.,  7350000.,  2100000.,  2520000.,\n",
       "        3255000.,  8855000.,  3290000.,  5229000.,  3143000.,  7525000.,\n",
       "        3850000.,  2940000.,  9800000.,  5600000.,  4935000.,  8120000.,\n",
       "        4200000.,  4305000.,  4970000.,  3773000.,  6125000.,  6510000.,\n",
       "        4900000.,  8400000.,  3850000.,  9240000.,  4900000.,  3633000.,\n",
       "        4235000.,  4900000.,  3080000.,  6650000.,  3640000.,  4410000.,\n",
       "        5950000.,  3325000.,  4760000.,  2870000.,  4543000.,  5950000.,\n",
       "        3430000.,  2485000.,  3535000.,  2275000.,  6440000.,  5215000.,\n",
       "        3990000.,  2870000.,  3010000.,  5005000.,  8043000.,  7910000.,\n",
       "        3360000.,  6300000.,  3115000.,  4165000.,  3710000.,  6020000.,\n",
       "        2940000.,  5320000.,  4900000.,  8400000.,  3570000.,  5250000.,\n",
       "        5740000.,  2940000.,  3220000.,  4585000.,  4007500.,  3500000.,\n",
       "        4305000.,  3010000.,  3780000.,  3745000.,  3150000.,  3118850.,\n",
       "        2800000.,  4200000.,  5250000.,  3500000.,  4270000.,  4480000.,\n",
       "        3990000.,  3010000.,  3150000.,  4403000.,  1855000., 12250000.,\n",
       "        5950000.,  6475000.,  4550000.,  2940000.,  5652500.,  3920000.,\n",
       "        4620000.,  7560000.,  7420000.,  5565000.,  5075000.,  4655000.,\n",
       "        2730000.,  4543000.,  1960000.,  3710000.,  3773000.,  3500000.,\n",
       "        2590000.,  4515000.,  2835000.,  6020000.,  4200000.,  8680000.,\n",
       "        7343000.,  4375000.,  4690000.,  2380000.,  7035000.,  2940000.,\n",
       "        4025000.,  5250000.,  3003000.,  4795000.,  5600000.,  3045000.,\n",
       "        3500000.,  4130000.,  3010000.,  3605000.,  5523000.,  9681000.,\n",
       "        3087000.,  4095000.,  6090000.,  2660000.,  3850000.,  7700000.,\n",
       "        3710000.,  3255000.,  3325000.,  5950000.,  6475000.,  5600000.,\n",
       "        2660000.,  2835000.,  4473000.,  6195000.,  4900000.,  4900000.,\n",
       "        3080000.,  5460000.,  7245000.,  3920000.,  4550000.,  3353000.,\n",
       "        8890000., 10850000.,  3570000.,  7840000.,  3150000.,  5460000.,\n",
       "        4900000.,  6580000.,  2380000.,  7980000.,  3150000.,  5950000.,\n",
       "        5110000.,  4060000.,  4382000.,  4095000.,  6650000.,  3290000.,\n",
       "        6615000.,  2135000.,  8080940.,  4907000.,  6930000.,  4123000.,\n",
       "        4900000.,  5530000.,  4235000.,  7350000.,  3640000.,  4480000.,\n",
       "        3780000.,  5425000.,  3675000.,  4200000.,  5040000.,  4620000.,\n",
       "        6650000.,  3990000.,  2653000.,  5810000.,  7350000.,  3220000.,\n",
       "        3010000.,  4445000.,  3500000.,  5866000.,  5250000.,  2345000.,\n",
       "        8400000.,  4900000.,  3570000.,  4480000.,  7070000.,  5390000.,\n",
       "        6300000.,  3500000.,  5460000.,  4690000.,  4956000.,  4760000.])"
      ]
     },
     "execution_count": 31,
     "metadata": {},
     "output_type": "execute_result"
    }
   ],
   "source": [
    "y1_train"
   ]
  },
  {
   "cell_type": "code",
   "execution_count": 32,
   "id": "1af447b5",
   "metadata": {},
   "outputs": [
    {
     "data": {
      "text/html": [
       "<style>#sk-container-id-2 {color: black;background-color: white;}#sk-container-id-2 pre{padding: 0;}#sk-container-id-2 div.sk-toggleable {background-color: white;}#sk-container-id-2 label.sk-toggleable__label {cursor: pointer;display: block;width: 100%;margin-bottom: 0;padding: 0.3em;box-sizing: border-box;text-align: center;}#sk-container-id-2 label.sk-toggleable__label-arrow:before {content: \"▸\";float: left;margin-right: 0.25em;color: #696969;}#sk-container-id-2 label.sk-toggleable__label-arrow:hover:before {color: black;}#sk-container-id-2 div.sk-estimator:hover label.sk-toggleable__label-arrow:before {color: black;}#sk-container-id-2 div.sk-toggleable__content {max-height: 0;max-width: 0;overflow: hidden;text-align: left;background-color: #f0f8ff;}#sk-container-id-2 div.sk-toggleable__content pre {margin: 0.2em;color: black;border-radius: 0.25em;background-color: #f0f8ff;}#sk-container-id-2 input.sk-toggleable__control:checked~div.sk-toggleable__content {max-height: 200px;max-width: 100%;overflow: auto;}#sk-container-id-2 input.sk-toggleable__control:checked~label.sk-toggleable__label-arrow:before {content: \"▾\";}#sk-container-id-2 div.sk-estimator input.sk-toggleable__control:checked~label.sk-toggleable__label {background-color: #d4ebff;}#sk-container-id-2 div.sk-label input.sk-toggleable__control:checked~label.sk-toggleable__label {background-color: #d4ebff;}#sk-container-id-2 input.sk-hidden--visually {border: 0;clip: rect(1px 1px 1px 1px);clip: rect(1px, 1px, 1px, 1px);height: 1px;margin: -1px;overflow: hidden;padding: 0;position: absolute;width: 1px;}#sk-container-id-2 div.sk-estimator {font-family: monospace;background-color: #f0f8ff;border: 1px dotted black;border-radius: 0.25em;box-sizing: border-box;margin-bottom: 0.5em;}#sk-container-id-2 div.sk-estimator:hover {background-color: #d4ebff;}#sk-container-id-2 div.sk-parallel-item::after {content: \"\";width: 100%;border-bottom: 1px solid gray;flex-grow: 1;}#sk-container-id-2 div.sk-label:hover label.sk-toggleable__label {background-color: #d4ebff;}#sk-container-id-2 div.sk-serial::before {content: \"\";position: absolute;border-left: 1px solid gray;box-sizing: border-box;top: 0;bottom: 0;left: 50%;z-index: 0;}#sk-container-id-2 div.sk-serial {display: flex;flex-direction: column;align-items: center;background-color: white;padding-right: 0.2em;padding-left: 0.2em;position: relative;}#sk-container-id-2 div.sk-item {position: relative;z-index: 1;}#sk-container-id-2 div.sk-parallel {display: flex;align-items: stretch;justify-content: center;background-color: white;position: relative;}#sk-container-id-2 div.sk-item::before, #sk-container-id-2 div.sk-parallel-item::before {content: \"\";position: absolute;border-left: 1px solid gray;box-sizing: border-box;top: 0;bottom: 0;left: 50%;z-index: -1;}#sk-container-id-2 div.sk-parallel-item {display: flex;flex-direction: column;z-index: 1;position: relative;background-color: white;}#sk-container-id-2 div.sk-parallel-item:first-child::after {align-self: flex-end;width: 50%;}#sk-container-id-2 div.sk-parallel-item:last-child::after {align-self: flex-start;width: 50%;}#sk-container-id-2 div.sk-parallel-item:only-child::after {width: 0;}#sk-container-id-2 div.sk-dashed-wrapped {border: 1px dashed gray;margin: 0 0.4em 0.5em 0.4em;box-sizing: border-box;padding-bottom: 0.4em;background-color: white;}#sk-container-id-2 div.sk-label label {font-family: monospace;font-weight: bold;display: inline-block;line-height: 1.2em;}#sk-container-id-2 div.sk-label-container {text-align: center;}#sk-container-id-2 div.sk-container {/* jupyter's `normalize.less` sets `[hidden] { display: none; }` but bootstrap.min.css set `[hidden] { display: none !important; }` so we also need the `!important` here to be able to override the default hidden behavior on the sphinx rendered scikit-learn.org. See: https://github.com/scikit-learn/scikit-learn/issues/21755 */display: inline-block !important;position: relative;}#sk-container-id-2 div.sk-text-repr-fallback {display: none;}</style><div id=\"sk-container-id-2\" class=\"sk-top-container\"><div class=\"sk-text-repr-fallback\"><pre>LinearRegression()</pre><b>In a Jupyter environment, please rerun this cell to show the HTML representation or trust the notebook. <br />On GitHub, the HTML representation is unable to render, please try loading this page with nbviewer.org.</b></div><div class=\"sk-container\" hidden><div class=\"sk-item\"><div class=\"sk-estimator sk-toggleable\"><input class=\"sk-toggleable__control sk-hidden--visually\" id=\"sk-estimator-id-2\" type=\"checkbox\" checked><label for=\"sk-estimator-id-2\" class=\"sk-toggleable__label sk-toggleable__label-arrow\">LinearRegression</label><div class=\"sk-toggleable__content\"><pre>LinearRegression()</pre></div></div></div></div></div>"
      ],
      "text/plain": [
       "LinearRegression()"
      ]
     },
     "execution_count": 32,
     "metadata": {},
     "output_type": "execute_result"
    }
   ],
   "source": [
    "from sklearn import linear_model\n",
    "reg=linear_model.LinearRegression()\n",
    "reg.fit(x1_train,y1_train)"
   ]
  },
  {
   "cell_type": "code",
   "execution_count": 33,
   "id": "1968a86b",
   "metadata": {},
   "outputs": [
    {
     "data": {
      "text/plain": [
       "array([6529502.39156317, 3728060.43802297, 3731337.45990758,\n",
       "       7226118.68305755, 8988521.73222079, 4569805.12357868,\n",
       "       5735068.29576709, 6650621.13601685, 3685725.67891688,\n",
       "       5955948.41459052, 5459698.80105394, 3342433.5623743 ,\n",
       "       3953591.22909864, 3889774.93426274, 6339631.72017114,\n",
       "       3111431.89098847, 3534792.14909309, 2980816.33633328,\n",
       "       3074982.66474699, 5655455.00531059, 5092267.34219947,\n",
       "       3917931.109415  , 3574638.99287243, 5180637.63190173,\n",
       "       3569622.96366781, 4891495.10873821, 5584834.37834798,\n",
       "       4161706.61288695, 3587038.37095517, 7525667.71863368,\n",
       "       4763822.32051532, 5555938.39223996, 3466829.32871258,\n",
       "       4805287.57596141, 3561329.91257859, 5907523.55987176,\n",
       "       3358150.16089273, 8050033.30877144, 4576359.16734789,\n",
       "       4169999.66397617, 3706458.30663992, 3165336.7230684 ,\n",
       "       3519864.6571325 , 7118309.0188977 , 4680891.80962313,\n",
       "       6370730.66175571, 5945711.79343325, 3143400.33623305,\n",
       "       3252868.61061074, 3392191.86890961, 5174458.0421359 ,\n",
       "       6559527.26673969, 5747378.17969667, 3350726.61346352,\n",
       "       4105394.26258243, 5041639.53200415, 3818748.75179667,\n",
       "       3333271.00762508, 4067206.02902094, 3781095.76644289,\n",
       "       4337599.69308056, 3408777.97108805, 6153038.07066372,\n",
       "       3594502.11693547, 4898049.15250742, 3756216.61317524,\n",
       "       4473565.53239266, 6784513.71255665, 4075499.08011016,\n",
       "       6750137.74908747, 3571321.77243674, 5012613.85319189,\n",
       "       3271073.12445593, 4888218.0868536 , 6753414.77097208,\n",
       "       3970966.43783492, 6577521.69077847, 3906361.03644118,\n",
       "       3785242.2919875 , 3220111.05880832, 4498444.68566032,\n",
       "       5696790.56805244, 5099820.58233293, 6007779.98389814,\n",
       "       5365198.21718793, 3084479.47494851, 4087938.65674399,\n",
       "       6112776.57432992, 3106081.60633156, 4159299.09466235,\n",
       "       5196060.17351895, 6007779.98389814, 3544743.81040016,\n",
       "       4316867.06535751, 5140286.64141477, 5462926.52733647,\n",
       "       3569622.96366781, 5700197.28264129, 3404631.44554344,\n",
       "       6778293.92423973, 4891495.10873821, 4473695.22509691,\n",
       "       6750137.74908747, 6280710.85888661, 6712689.32648174,\n",
       "       4067206.02902094, 4325160.11644673, 3895994.72257966,\n",
       "       3143400.33623305, 5241502.06325432, 4460256.45209883,\n",
       "       4095362.2041732 , 3089495.50415313, 3350726.61346352,\n",
       "       6153038.07066372, 3263649.57702672, 3706458.30663992,\n",
       "       3664993.05119383, 6533974.07550908, 5360182.18798332,\n",
       "       6239245.60344051, 3400484.91999883, 4719080.04318462,\n",
       "       4601238.32061555, 6264864.56766392, 4763822.32051532,\n",
       "       5531059.23897231, 4931016.79411624, 3765379.16792446,\n",
       "       4067206.02902094, 3392191.86890961, 7027825.26787206,\n",
       "       4937976.39338892, 3607811.1972293 , 4808564.59784602,\n",
       "       4607253.54618442, 4556496.04328485, 4556496.04328485,\n",
       "       5492871.00541082, 5209663.310714  , 8395438.8866374 ,\n",
       "       6778293.92423973, 3159986.43841149, 7086006.31820083,\n",
       "       4701624.43734618, 3896328.97803195, 4554422.78051255,\n",
       "       6513045.98208898, 6011057.00578275, 4788701.47378298,\n",
       "       4594813.96955059, 6909649.28985069, 6215106.26112861,\n",
       "       5758988.45122158, 6364381.18073455, 4932960.3641843 ,\n",
       "       4141843.48882391, 5696790.56805244, 3768656.18980906,\n",
       "       3500375.98707284, 6408383.64710949, 3967689.41595032,\n",
       "       5068966.40204749, 6352071.29680497, 5613860.05716025,\n",
       "       5267959.42963766, 3578785.51841704, 5274259.61505674,\n",
       "       4709047.98477539, 4141843.48882391, 3558052.89069399,\n",
       "       4238083.08000993, 5178474.87497626, 3218037.79603602,\n",
       "       3359019.66455274, 7749320.71263409, 5626299.63379408,\n",
       "       4100378.23337782, 3392191.86890961, 6629019.0046338 ,\n",
       "       3367312.71564196, 5729093.26874931, 6857947.41324732,\n",
       "       4079645.60565477, 3143400.33623305, 3412509.8440782 ,\n",
       "       6153038.07066372, 7189669.45681607, 6322176.1143327 ,\n",
       "       4780408.42269376, 4349169.76605438, 4522454.33526797,\n",
       "       7151481.22325458, 3594502.11693547, 5459698.80105394,\n",
       "       5800583.39937192, 3292675.25583899, 3143400.33623305,\n",
       "       3529027.21188172, 6327192.14353731, 4714064.01398001,\n",
       "       5213720.34210544, 4141843.48882391, 6153038.07066372,\n",
       "       3495855.00752485, 3582062.54030164, 6049374.93204848,\n",
       "       4913097.24012126, 4742260.38768335, 5865059.10806141,\n",
       "       5178474.87497626, 6195243.13706557, 7259420.58011867,\n",
       "       5462975.82293855, 4937976.39338892, 3835000.59852281,\n",
       "       3507425.08049867, 6764650.58849361, 3591225.09505086,\n",
       "       6899412.66869341, 4304427.48872368, 3735483.98545219,\n",
       "       5033346.48091493, 4253799.67852836, 3171556.51138531,\n",
       "       6327192.14353731, 4747236.21833688, 3931240.18970884,\n",
       "       6634824.14039625, 3574638.99287243, 5700147.98703921,\n",
       "       3404631.44554344, 4988733.89628848, 7076843.76345161,\n",
       "       3558052.89069399, 3519864.6571325 , 3872319.3284243 ,\n",
       "       3922077.63495961, 9364986.05312024, 5907523.55987176,\n",
       "       5531059.23897231, 4387357.99961587, 3806844.42337055,\n",
       "       7044541.06275474, 6767553.15637483, 6529502.39156317,\n",
       "       3830854.0729782 , 4929683.3422997 , 3872319.3284243 ,\n",
       "       4282825.35734063, 3574638.99287243, 6526225.36967856,\n",
       "       5018833.6415088 , 5510196.91854501, 3607811.1972293 ,\n",
       "       5178474.87497626, 3582062.54030164, 3851586.70070125,\n",
       "       4913097.24012126, 3768656.18980906, 4067206.02902094,\n",
       "       3868172.80287969, 4141843.48882391, 3930370.68604883,\n",
       "       3723913.91247837, 3830854.0729782 , 3317554.40910664,\n",
       "       3342433.5623743 , 3172011.36249085, 3270243.81934701,\n",
       "       3374736.26307117, 3967274.76339585, 8105182.09851474,\n",
       "       3789388.81753211, 4536632.91922181, 3951103.31377188,\n",
       "       4352446.78793898, 4380683.36019341, 2960083.70861023,\n",
       "       3470106.35059719, 3139253.81068844, 7795062.18632904,\n",
       "       5186767.92606548, 5348482.42230525, 4481858.58348188,\n",
       "       3019004.56989477, 6803173.07750739, 6675500.2892845 ,\n",
       "       4000861.62030719, 6153038.07066372, 4898584.40071513,\n",
       "       4476842.55427727, 4271255.28436681, 3828780.8102059 ,\n",
       "       3934517.21159344, 6110703.31155762, 4446947.371805  ,\n",
       "       3768656.18980906, 5525913.51706345, 4034033.82466407,\n",
       "       4781407.61905801, 3731337.45990758, 3644260.42347078,\n",
       "       5593127.4294372 , 3239974.18287136, 6631961.7710661 ,\n",
       "       7395996.53768229, 3893051.95614735, 4387357.99961587,\n",
       "       5197223.73408017, 6678777.31116911, 3956119.34297649,\n",
       "       4515030.78783876, 5808746.75775689, 5237395.7362608 ,\n",
       "       5178474.87497626, 4405562.51346107, 3475122.3798018 ,\n",
       "       4947138.94813814, 4573041.9469122 , 3619381.27020313,\n",
       "       3765379.16792446, 5137009.61953017, 7918718.14171157,\n",
       "       5258128.36398384, 3574638.99287243, 5012613.85319189,\n",
       "       3436934.14624031, 2801726.63135723, 6529502.39156317,\n",
       "       3385557.42803824, 3765379.16792446, 4632337.26220012,\n",
       "       4987734.69992423, 3917931.109415  , 6253294.4946901 ,\n",
       "       3530685.82209957, 2994125.41662711, 4536632.91922181,\n",
       "       6298166.46472505, 4202382.76177521, 5062372.1597272 ,\n",
       "       3956119.34297649, 6778293.92423973, 7773460.05494599,\n",
       "       3481756.82067318, 3735483.98545219, 3395468.89079422,\n",
       "       5572524.4944184 , 8164232.65250353, 3765379.16792446,\n",
       "       6302312.99026966, 3706458.30663992, 4805287.57596141,\n",
       "       4150136.53991313, 6153038.07066372, 3302172.06604051,\n",
       "       7773460.05494599, 4698347.41546158, 4186585.76615461,\n",
       "       4909080.4072809 , 6488037.13611707, 4704901.45923078,\n",
       "       4221496.97783149, 5808006.94680113, 2936074.05900258,\n",
       "       8018974.56573795, 3143400.33623305, 6567690.62512466,\n",
       "       4017447.72248563, 7347237.42751123, 4412237.15288353,\n",
       "       7624924.94629581, 6422691.92376758, 3431543.66303232,\n",
       "       6529502.39156317, 3674155.60594305, 4339672.95585286,\n",
       "       4274532.30625141, 5105910.6779456 , 3404631.44554344,\n",
       "       3165336.7230684 , 5803730.72855228, 4353316.29159899,\n",
       "       3951103.31377188, 3917931.109415  , 3934517.21159344,\n",
       "       4266239.25516219, 6153038.07066372, 3012370.12902339,\n",
       "       4157560.08734234, 3454389.75207875, 3355702.44411705,\n",
       "       4266239.25516219, 4418791.19665273, 3408777.97108805,\n",
       "       7714539.19366146, 3519864.6571325 , 3408777.97108805,\n",
       "       5696790.56805244, 5581557.35646338, 6447441.38433099,\n",
       "       6529502.39156317, 3718897.88327375, 4971278.29045004,\n",
       "       4419660.70031274, 4826149.89638871, 6145484.83053026])"
      ]
     },
     "execution_count": 33,
     "metadata": {},
     "output_type": "execute_result"
    }
   ],
   "source": [
    "rpred_train1=reg.predict(x1_train)\n",
    "rpred_train1"
   ]
  },
  {
   "cell_type": "code",
   "execution_count": 34,
   "id": "85569bde",
   "metadata": {},
   "outputs": [
    {
     "data": {
      "text/plain": [
       "array([ 6360364.34789419,  6153038.07066372,  6065091.53056692,\n",
       "        5326880.29092219,  3569622.96366781,  3406704.70831575,\n",
       "       12524638.51811261,  4941463.50507993,  6360364.34789419,\n",
       "        3872319.3284243 ,  3460154.68929012,  4719080.04318462,\n",
       "        3557183.38703398,  7314065.22315435,  2660744.76284051,\n",
       "        5012613.85319189,  4763822.32051532,  5227363.67785157,\n",
       "        4365755.86823282,  4432100.27694657,  5945711.79343325,\n",
       "        6753414.77097208,  5244819.28369001,  3482545.92723101,\n",
       "        6401829.60334028,  3180719.06613453,  4631133.50308782,\n",
       "        5121252.82246065,  7643169.65869209,  4846882.52411176,\n",
       "        5448128.72808012,  4983717.86708387,  4103655.25526242,\n",
       "        3896328.97803195,  4962855.54665657,  4559773.06516945,\n",
       "        3519864.6571325 ,  6615709.92433996,  3165336.7230684 ,\n",
       "        4748235.41470113,  3703181.28475532,  3689872.20446148,\n",
       "        4536632.91922181,  4299411.45951907,  3765379.16792446,\n",
       "        5377637.79382176,  4357462.8171436 ,  4556496.04328485,\n",
       "        6301443.48660965,  5273974.65520652, 10535305.45306435,\n",
       "        4772115.37160454,  5945711.79343325,  3718897.88327375,\n",
       "        6630628.31924956,  5945711.79343325,  5170311.51659129,\n",
       "        5354287.5580677 ,  3143400.33623305,  3835000.59852281,\n",
       "        3220111.05880832,  3706458.30663992,  3169148.99316071,\n",
       "        3973909.20426723,  3723913.91247837,  6529502.39156317,\n",
       "        3242916.94930367,  6025365.28244083,  4896925.79049728,\n",
       "        3934517.21159344,  3995845.59110258,  3934517.21159344,\n",
       "        5178604.56768051,  6153038.07066372,  9054736.4482303 ,\n",
       "        3869042.30653969,  6194503.32610981,  4550405.94767218,\n",
       "        4103655.25526242,  4639426.55417704,  3177776.29970222,\n",
       "        3165336.7230684 ,  5382524.13032213,  3165336.7230684 ,\n",
       "        5323732.96174184,  4349169.76605438,  3283512.70108976,\n",
       "        3965616.15317801,  4345892.74416978,  3558052.89069399,\n",
       "        3219241.55514832,  6070107.55977153,  6135452.77212103,\n",
       "        8744486.84334035,  4138566.46693931,  4456939.23166314,\n",
       "        4307704.51060829,  3921248.32985069,  5584834.37834798,\n",
       "        5261405.38586845,  4087069.15308398,  3597444.88336778,\n",
       "        4991881.22546884,  4260019.46684528,  5140286.64141477,\n",
       "        4000861.62030719,  3519864.6571325 ,  5121293.02101174,\n",
       "        6401829.60334028,  2728747.78177211,  5911670.08541637,\n",
       "        7372856.39173464,  4698347.41546158,  3872319.3284243 ,\n",
       "        3441950.17544493,  5572524.4944184 ,  4757602.53219841,\n",
       "        2953529.66484102,  3735483.98545219,  3350726.61346352,\n",
       "        3220111.05880832,  4315997.56169751,  3470106.35059719,\n",
       "        4784554.94823837,  3408777.97108805,  3574638.99287243,\n",
       "        6757561.29651669,  3606941.6935693 ,  4224733.80116501,\n",
       "        5323732.96174184,  3578785.51841704,  5191044.14431434,\n",
       "        4349169.76605438,  3934517.21159344,  6011057.00578275,\n",
       "        3271073.12445593,  4763822.32051532])"
      ]
     },
     "execution_count": 34,
     "metadata": {},
     "output_type": "execute_result"
    }
   ],
   "source": [
    "rpred_test1=reg.predict(x1_test)\n",
    "rpred_test1"
   ]
  },
  {
   "cell_type": "code",
   "execution_count": 35,
   "id": "fe06bf8f",
   "metadata": {},
   "outputs": [
    {
     "data": {
      "text/plain": [
       "1.0"
      ]
     },
     "execution_count": 35,
     "metadata": {},
     "output_type": "execute_result"
    }
   ],
   "source": [
    "reg.score(x1_test,rpred_test1)"
   ]
  },
  {
   "cell_type": "code",
   "execution_count": 36,
   "id": "5da2183c",
   "metadata": {},
   "outputs": [
    {
     "data": {
      "text/plain": [
       "1.0"
      ]
     },
     "execution_count": 36,
     "metadata": {},
     "output_type": "execute_result"
    }
   ],
   "source": [
    "reg.score(x1_train,rpred_train1)"
   ]
  },
  {
   "cell_type": "code",
   "execution_count": 38,
   "id": "01dd6266",
   "metadata": {},
   "outputs": [
    {
     "data": {
      "text/plain": [
       "<AxesSubplot:xlabel='bedrooms', ylabel='price'>"
      ]
     },
     "execution_count": 38,
     "metadata": {},
     "output_type": "execute_result"
    },
    {
     "data": {
      "image/png": "[encoded data removed]",
      "text/plain": [
       "<Figure size 432x288 with 1 Axes>"
      ]
     },
     "metadata": {
      "needs_background": "light"
     },
     "output_type": "display_data"
    }
   ],
   "source": [
    "sns.regplot(data=df,x=\"bedrooms\",y=\"price\")"
   ]
  },
  {
   "cell_type": "code",
   "execution_count": 39,
   "id": "163a215b",
   "metadata": {},
   "outputs": [
    {
     "data": {
      "text/plain": [
       "<AxesSubplot:xlabel='bedrooms', ylabel='price'>"
      ]
     },
     "execution_count": 39,
     "metadata": {},
     "output_type": "execute_result"
    },
    {
     "data": {
      "image/png": "[encoded data removed]",
      "text/plain": [
       "<Figure size 432x288 with 1 Axes>"
      ]
     },
     "metadata": {
      "needs_background": "light"
     },
     "output_type": "display_data"
    }
   ],
   "source": [
    "sns.regplot(data=df,x=\"bedrooms\",y=\"price\")"
   ]
  },
  {
   "cell_type": "code",
   "execution_count": 41,
   "id": "2f927a2f",
   "metadata": {},
   "outputs": [
    {
     "data": {
      "text/plain": [
       "1860970886240.5862"
      ]
     },
     "execution_count": 41,
     "metadata": {},
     "output_type": "execute_result"
    }
   ],
   "source": [
    "from sklearn.metrics import mean_squared_error\n",
    "mean_squared_error(y1_train,rpred_train1)"
   ]
  },
  {
   "cell_type": "code",
   "execution_count": 42,
   "id": "3d276092",
   "metadata": {},
   "outputs": [
    {
     "data": {
      "text/plain": [
       "1610802553057.9758"
      ]
     },
     "execution_count": 42,
     "metadata": {},
     "output_type": "execute_result"
    }
   ],
   "source": [
    "from sklearn.metrics import mean_squared_error\n",
    "mean_squared_error(y1_test,rpred_test1)"
   ]
  },
  {
   "cell_type": "code",
   "execution_count": 43,
   "id": "3398f779",
   "metadata": {},
   "outputs": [
    {
     "data": {
      "text/plain": [
       "1364174.0674270957"
      ]
     },
     "execution_count": 43,
     "metadata": {},
     "output_type": "execute_result"
    }
   ],
   "source": [
    "from sklearn.metrics import mean_squared_error\n",
    "mean_squared_error(y1_train,rpred_train1,squared=False)"
   ]
  },
  {
   "cell_type": "code",
   "execution_count": 44,
   "id": "d9fd0162",
   "metadata": {},
   "outputs": [
    {
     "data": {
      "text/plain": [
       "0.48115597880779537"
      ]
     },
     "execution_count": 44,
     "metadata": {},
     "output_type": "execute_result"
    }
   ],
   "source": [
    "from sklearn.metrics import r2_score\n",
    "r2_score(y1_train,rpred_train1)"
   ]
  },
  {
   "cell_type": "code",
   "execution_count": null,
   "id": "414afe88",
   "metadata": {},
   "outputs": [],
   "source": []
  }
 ],
 "metadata": {
  "kernelspec": {
   "display_name": "Python 3 (ipykernel)",
   "language": "python",
   "name": "python3"
  },
  "language_info": {
   "codemirror_mode": {
    "name": "ipython",
    "version": 3
   },
   "file_extension": ".py",
   "mimetype": "text/x-python",
   "name": "python",
   "nbconvert_exporter": "python",
   "pygments_lexer": "ipython3",
   "version": "3.9.12"
  }
 },
 "nbformat": 4,
 "nbformat_minor": 5
}
